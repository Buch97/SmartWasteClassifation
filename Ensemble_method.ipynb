{
  "cells": [
    {
      "cell_type": "markdown",
      "metadata": {
        "id": "view-in-github",
        "colab_type": "text"
      },
      "source": [
        "<a href=\"https://colab.research.google.com/github/mattemugno/Smart-Waste-Classifation/blob/main/Ensemble_method.ipynb\" target=\"_parent\"><img src=\"https://colab.research.google.com/assets/colab-badge.svg\" alt=\"Open In Colab\"/></a>"
      ]
    },
    {
      "cell_type": "code",
      "execution_count": null,
      "metadata": {
        "id": "sJrzxl_6x5EY"
      },
      "outputs": [],
      "source": [
        "import os\n",
        "from google.colab import drive\n",
        "import tensorflow as tf\n",
        "import numpy as np\n",
        "import cv2\n",
        "from PIL import Image, ImageFilter, ImageChops\n",
        "from matplotlib.pyplot import imshow\n",
        "from tensorflow import keras\n",
        "from sklearn.model_selection import KFold\n",
        "import matplotlib.pyplot as plt\n",
        "from tensorflow.keras import layers\n",
        "from tensorflow.keras.applications import ResNet50V2\n",
        "from tensorflow.keras.utils import image_dataset_from_directory\n",
        "from tensorflow.keras.utils import to_categorical\n",
        "from sklearn.preprocessing import label_binarize\n",
        "from sklearn.model_selection import StratifiedKFold\n",
        "from sklearn.metrics import roc_curve, auc\n",
        "import matplotlib.pyplot as plt\n",
        "from sklearn.metrics import RocCurveDisplay, confusion_matrix, ConfusionMatrixDisplay\n",
        "from sklearn import metrics\n",
        "import random\n",
        "import datetime\n",
        "import shutil"
      ]
    },
    {
      "cell_type": "code",
      "execution_count": null,
      "metadata": {
        "colab": {
          "base_uri": "https://localhost:8080/"
        },
        "id": "NAxDAGoHzx_k",
        "outputId": "f944bd90-79ee-48c1-97ca-e01c3b156735"
      },
      "outputs": [
        {
          "output_type": "stream",
          "name": "stdout",
          "text": [
            "Mounted at /content/drive/\n"
          ]
        }
      ],
      "source": [
        "drive.mount('/content/drive/', force_remount=True)\n",
        "!unzip -q \"/content/drive/My Drive/project/SplittedDataset.zip\" -d \"/content/dataset/\"\n",
        "dataset_path = \"/content/dataset/content/splitted_dataset\""
      ]
    },
    {
      "cell_type": "markdown",
      "source": [
        "# Data preparation"
      ],
      "metadata": {
        "id": "fZ8jlG7qHdMd"
      }
    },
    {
      "cell_type": "code",
      "execution_count": null,
      "metadata": {
        "colab": {
          "base_uri": "https://localhost:8080/"
        },
        "id": "fc6ELWd9zyoD",
        "outputId": "faadf0ef-177c-42da-caf6-0cd80d24faf4"
      },
      "outputs": [
        {
          "output_type": "stream",
          "name": "stdout",
          "text": [
            "Training samples are: 7040\n",
            "Validation samples are: 2327\n",
            "Test samples are: 2328\n",
            "Kfold samples are: 8528\n"
          ]
        }
      ],
      "source": [
        "training_dir = dataset_path + \"/training_set\"\n",
        "test_dir = dataset_path + \"/test_set\"\n",
        "validation_dir = dataset_path + \"/validation_set\"\n",
        "kfold_dir = dataset_path + \"/kfold_set\"\n",
        "\n",
        "labels = ['battery', 'organic', 'paper', 'metal', 'plastic', 'trash', 'clothes', 'glass']\n",
        "a = 0\n",
        "b = 0\n",
        "c = 0\n",
        "d = 0\n",
        "for l in labels:\n",
        "  a += len(os.listdir(training_dir + \"/\" + str(l)))\n",
        "  b += len(os.listdir(validation_dir + \"/\" + str(l)))\n",
        "  c += len(os.listdir(test_dir + \"/\" + str(l)))\n",
        "  d += len(os.listdir(kfold_dir + \"/\" + str(l)))\n",
        "\n",
        "print(\"Training samples are: \" + str(a))\n",
        "print(\"Validation samples are: \" + str(b))\n",
        "print(\"Test samples are: \" + str(c))\n",
        "print(\"Kfold samples are: \" + str(d))"
      ]
    },
    {
      "cell_type": "code",
      "execution_count": null,
      "metadata": {
        "colab": {
          "base_uri": "https://localhost:8080/"
        },
        "id": "nV6RJ4NkCZT-",
        "outputId": "42bf7ccb-a23e-4abf-ed3d-b2df3eb5dbae"
      },
      "outputs": [
        {
          "output_type": "stream",
          "name": "stdout",
          "text": [
            "Found 7040 files belonging to 8 classes.\n",
            "Found 7040 files belonging to 8 classes.\n",
            "Found 7040 files belonging to 8 classes.\n",
            "Found 7040 files belonging to 8 classes.\n",
            "Found 2327 files belonging to 8 classes.\n",
            "Found 2327 files belonging to 8 classes.\n",
            "Found 2327 files belonging to 8 classes.\n",
            "Found 2327 files belonging to 8 classes.\n",
            "Found 2328 files belonging to 8 classes.\n",
            "Found 2328 files belonging to 8 classes.\n",
            "Found 2328 files belonging to 8 classes.\n",
            "Found 2328 files belonging to 8 classes.\n",
            "Found 8528 files belonging to 8 classes.\n"
          ]
        }
      ],
      "source": [
        "BATCH_SIZE = 32\n",
        "IMAGE_HEIGHT_RESNET = 224\n",
        "IMAGE_WIDTH_RESNET = 224\n",
        "\n",
        "IMAGE_HEIGHT_MOBILENET = 192\n",
        "IMAGE_WIDTH_MOBILENET = 192\n",
        "\n",
        "IMAGE_HEIGHT_VGG = 224\n",
        "IMAGE_WIDTH_VGG = 224\n",
        "\n",
        "IMAGE_HEIGHT_SCRATCH = 224\n",
        "IMAGE_WIDTH_SCRATCH = 224\n",
        "\n",
        "\n",
        "train_dataset = image_dataset_from_directory(\n",
        "    training_dir,\n",
        "    color_mode='rgb',\n",
        "    labels='inferred',\n",
        "    label_mode='categorical',\n",
        "    shuffle=True,\n",
        "    image_size=(IMAGE_HEIGHT_RESNET, IMAGE_WIDTH_RESNET),\n",
        "    batch_size=BATCH_SIZE)\n",
        "\n",
        "train_dataset_mnet = image_dataset_from_directory(\n",
        "    training_dir,\n",
        "    color_mode='rgb',\n",
        "    labels='inferred',\n",
        "    label_mode='categorical',\n",
        "    shuffle=True,\n",
        "    image_size=(IMAGE_HEIGHT_MOBILENET, IMAGE_WIDTH_MOBILENET),\n",
        "    batch_size=BATCH_SIZE)\n",
        "\n",
        "train_dataset_vgg = image_dataset_from_directory(\n",
        "    training_dir,\n",
        "    color_mode='rgb',\n",
        "    labels='inferred',\n",
        "    label_mode='categorical',\n",
        "    shuffle=True,\n",
        "    image_size=(IMAGE_HEIGHT_VGG, IMAGE_WIDTH_VGG),\n",
        "    batch_size=BATCH_SIZE)\n",
        "\n",
        "train_dataset_scratch = image_dataset_from_directory(\n",
        "    training_dir,\n",
        "    color_mode='rgb',\n",
        "    labels='inferred',\n",
        "    label_mode='categorical',\n",
        "    shuffle=True,\n",
        "    image_size=(IMAGE_HEIGHT_SCRATCH, IMAGE_WIDTH_SCRATCH),\n",
        "    batch_size=BATCH_SIZE)\n",
        "\n",
        "validation_dataset = image_dataset_from_directory(\n",
        "    validation_dir,\n",
        "    color_mode='rgb',\n",
        "    labels='inferred',\n",
        "    label_mode='categorical',\n",
        "    shuffle=False,\n",
        "    image_size=(IMAGE_HEIGHT_RESNET, IMAGE_WIDTH_RESNET),\n",
        "    batch_size=BATCH_SIZE)\n",
        "\n",
        "validation_dataset_mnet = image_dataset_from_directory(\n",
        "    validation_dir,\n",
        "    color_mode='rgb',\n",
        "    labels='inferred',\n",
        "    label_mode='categorical',\n",
        "    shuffle=False,\n",
        "    image_size=(IMAGE_HEIGHT_MOBILENET, IMAGE_WIDTH_MOBILENET),\n",
        "    batch_size=BATCH_SIZE)\n",
        "\n",
        "validation_dataset_vgg = image_dataset_from_directory(\n",
        "    validation_dir,\n",
        "    color_mode='rgb',\n",
        "    labels='inferred',\n",
        "    label_mode='categorical',\n",
        "    shuffle=False,\n",
        "    image_size=(IMAGE_HEIGHT_VGG, IMAGE_WIDTH_VGG),\n",
        "    batch_size=BATCH_SIZE)\n",
        "\n",
        "validation_dataset_scratch = image_dataset_from_directory(\n",
        "    validation_dir,\n",
        "    color_mode='rgb',\n",
        "    labels='inferred',\n",
        "    label_mode='categorical',\n",
        "    shuffle=False,\n",
        "    image_size=(IMAGE_HEIGHT_SCRATCH, IMAGE_WIDTH_SCRATCH),\n",
        "    batch_size=BATCH_SIZE)\n",
        "\n",
        "test_dataset = image_dataset_from_directory(\n",
        "    test_dir,\n",
        "    color_mode='rgb',\n",
        "    labels='inferred',\n",
        "    label_mode='categorical',\n",
        "    shuffle=False,\n",
        "    image_size=(IMAGE_HEIGHT_RESNET, IMAGE_WIDTH_RESNET),\n",
        "    batch_size=BATCH_SIZE)\n",
        "\n",
        "test_dataset_mnet = image_dataset_from_directory(\n",
        "    test_dir,\n",
        "    color_mode='rgb',\n",
        "    labels='inferred',\n",
        "    label_mode='categorical',\n",
        "    shuffle=False,\n",
        "    image_size=(IMAGE_HEIGHT_MOBILENET, IMAGE_WIDTH_MOBILENET),\n",
        "    batch_size=BATCH_SIZE)\n",
        "\n",
        "test_dataset_vgg = image_dataset_from_directory(\n",
        "    test_dir,\n",
        "    color_mode='rgb',\n",
        "    labels='inferred',\n",
        "    label_mode='categorical',\n",
        "    shuffle=False,\n",
        "    image_size=(IMAGE_HEIGHT_VGG, IMAGE_WIDTH_VGG),\n",
        "    batch_size=BATCH_SIZE)\n",
        "\n",
        "test_dataset_scratch = image_dataset_from_directory(\n",
        "    test_dir,\n",
        "    color_mode='rgb',\n",
        "    labels='inferred',\n",
        "    label_mode='categorical',\n",
        "    shuffle=False,\n",
        "    image_size=(IMAGE_HEIGHT_SCRATCH, IMAGE_WIDTH_SCRATCH),\n",
        "    batch_size=BATCH_SIZE)\n",
        "\n",
        "kfold_dataset = image_dataset_from_directory(\n",
        "    kfold_dir,\n",
        "    color_mode='rgb',\n",
        "    labels='inferred',\n",
        "    label_mode='categorical',\n",
        "    shuffle=True,\n",
        "    image_size=(IMAGE_HEIGHT_RESNET, IMAGE_WIDTH_RESNET),\n",
        "    batch_size=BATCH_SIZE)\n"
      ]
    },
    {
      "cell_type": "markdown",
      "source": [
        "# Loading models and weights"
      ],
      "metadata": {
        "id": "LO3BCaEfHu4W"
      }
    },
    {
      "cell_type": "code",
      "execution_count": null,
      "metadata": {
        "id": "iCLFLFtXS-Ic"
      },
      "outputs": [],
      "source": [
        "MODELS_DIR = \"/content/drive/My Drive/models/\"\n",
        "resnet_model = tf.keras.models.load_model(MODELS_DIR + 'garbage_classification_pretrained_fine_tuned.h5')\n",
        "vgg_model = tf.keras.models.load_model(MODELS_DIR + 'garbage_classification_pretrained_fine_tuned_VGG16.h5')\n",
        "mobilenet_model = tf.keras.models.load_model(MODELS_DIR + 'checkpoint_mobilenet.h5')\n",
        "scratch_model = tf.keras.models.load_model(MODELS_DIR + 'TwoDropout128Dense.h5')"
      ]
    },
    {
      "cell_type": "markdown",
      "source": [
        "# Testing of models"
      ],
      "metadata": {
        "id": "TQ-Uio-mIlec"
      }
    },
    {
      "cell_type": "code",
      "execution_count": null,
      "metadata": {
        "colab": {
          "base_uri": "https://localhost:8080/"
        },
        "id": "sdKaisXjQJdZ",
        "outputId": "058e5902-163a-4402-d410-b9bcc9540722"
      },
      "outputs": [
        {
          "output_type": "stream",
          "name": "stdout",
          "text": [
            "73/73 [==============================] - 9s 123ms/step\n",
            "73/73 [==============================] - 7s 83ms/step\n",
            "73/73 [==============================] - 6s 65ms/step\n",
            "73/73 [==============================] - 4s 44ms/step\n"
          ]
        }
      ],
      "source": [
        "vgg_test_scores = vgg_model.predict(test_dataset_vgg)\n",
        "resnet_test_scores = resnet_model.predict(test_dataset)\n",
        "mobilenet_test_scores = mobilenet_model.predict(test_dataset_mnet)\n",
        "scratch_test_scores = scratch_model.predict(test_dataset_scratch)"
      ]
    },
    {
      "cell_type": "code",
      "source": [
        "TRUE_TEST_LABELS = tf.concat([labels_batch for data_batch, labels_batch in test_dataset], axis = 0)\n",
        "MODEL_TEST_SCORES = [vgg_test_scores, resnet_test_scores, mobilenet_test_scores, scratch_test_scores]"
      ],
      "metadata": {
        "id": "CszZYA0Idv3C"
      },
      "execution_count": null,
      "outputs": []
    },
    {
      "cell_type": "code",
      "source": [
        "vgg_val_scores = vgg_model.predict(validation_dataset_vgg)\n",
        "resnet_val_scores = resnet_model.predict(validation_dataset)\n",
        "mobilenet_val_scores = mobilenet_model.predict(validation_dataset_mnet)\n",
        "scratch_val_scores = scratch_model.predict(validation_dataset_scratch)"
      ],
      "metadata": {
        "colab": {
          "base_uri": "https://localhost:8080/"
        },
        "id": "ZJ1ukgQwdqT7",
        "outputId": "62383613-d6b1-4629-9104-66329982aafe"
      },
      "execution_count": null,
      "outputs": [
        {
          "output_type": "stream",
          "name": "stdout",
          "text": [
            "73/73 [==============================] - 12s 169ms/step\n",
            "73/73 [==============================] - 7s 101ms/step\n",
            "73/73 [==============================] - 4s 51ms/step\n",
            "73/73 [==============================] - 3s 46ms/step\n"
          ]
        }
      ]
    },
    {
      "cell_type": "code",
      "source": [
        "TRUE_VAL_LABELS = tf.concat([labels_batch for data_batch, labels_batch in validation_dataset], axis = 0)\n",
        "MODEL_VAL_SCORES = [vgg_val_scores, resnet_val_scores, mobilenet_val_scores, scratch_val_scores]"
      ],
      "metadata": {
        "id": "csFkuIkBdqzr"
      },
      "execution_count": null,
      "outputs": []
    },
    {
      "cell_type": "markdown",
      "source": [
        "# Average model"
      ],
      "metadata": {
        "id": "Swc0WxzdIbUT"
      }
    },
    {
      "cell_type": "code",
      "source": [
        "ensemble_pred = []\n",
        "n_models = len(MODEL_TEST_SCORES)\n",
        "print(n_models)\n",
        "print(MODEL_TEST_SCORES[0][1])\n",
        "print(MODEL_TEST_SCORES[1][1])\n",
        "print(MODEL_TEST_SCORES[2][1])\n",
        "print(MODEL_TEST_SCORES[3][1])\n",
        "\n",
        "for i in range(len(MODEL_TEST_SCORES[0])):\n",
        "    x = (1/n_models) * (MODEL_TEST_SCORES[0][i] + MODEL_TEST_SCORES[1][i] + MODEL_TEST_SCORES[2][i] + MODEL_TEST_SCORES[3][i])\n",
        "    ensemble_pred.append(np.argmax(x))"
      ],
      "metadata": {
        "id": "HrINFaAYe1iN",
        "colab": {
          "base_uri": "https://localhost:8080/"
        },
        "outputId": "885d689a-b949-497b-b5b5-02bf7a6f5391"
      },
      "execution_count": null,
      "outputs": [
        {
          "output_type": "stream",
          "name": "stdout",
          "text": [
            "4\n",
            "[1. 0. 0. 0. 0. 0. 0. 0.]\n",
            "[1.0000000e+00 1.1758321e-11 9.5131923e-12 1.0190234e-11 3.8235764e-12\n",
            " 4.2648446e-10 4.4175020e-12 9.7073849e-10]\n",
            "[9.9987257e-01 1.7746095e-07 7.0499212e-08 1.2525552e-04 5.8031898e-08\n",
            " 1.7394940e-07 6.4650942e-07 1.1508405e-06]\n",
            "[9.7204643e-01 5.7877218e-03 1.2727774e-02 9.8112167e-04 3.1412710e-04\n",
            " 1.3699458e-03 4.6441141e-03 2.1287291e-03]\n"
          ]
        }
      ]
    },
    {
      "cell_type": "code",
      "source": [
        "print(MODEL_TEST_SCORES[0][2])\n",
        "print(MODEL_TEST_SCORES[1][2])\n",
        "print(MODEL_TEST_SCORES[2][2])\n",
        "print(MODEL_TEST_SCORES[3][2])"
      ],
      "metadata": {
        "colab": {
          "base_uri": "https://localhost:8080/"
        },
        "id": "24ciCWrLnIqz",
        "outputId": "62f0edd8-74b5-4193-ecd2-d3fbd239cf14"
      },
      "execution_count": null,
      "outputs": [
        {
          "output_type": "stream",
          "name": "stdout",
          "text": [
            "[1.0000000e+00 5.3916834e-20 3.7271078e-21 4.7904581e-18 1.1452764e-24\n",
            " 2.7946558e-17 2.7872974e-18 1.9927574e-20]\n",
            "[9.9999940e-01 9.3480264e-09 2.6280731e-11 1.5550436e-10 1.5812796e-11\n",
            " 1.0698306e-08 5.5189349e-07 3.8002465e-10]\n",
            "[9.9996471e-01 1.0245452e-08 1.1616131e-08 1.1500047e-07 1.6493672e-08\n",
            " 1.4099454e-05 1.3273347e-05 7.7341565e-06]\n",
            "[3.7076589e-01 3.2071199e-03 4.2672842e-04 2.2873102e-02 9.3571628e-03\n",
            " 1.9239975e-03 5.7068801e-01 2.0757953e-02]\n"
          ]
        }
      ]
    },
    {
      "cell_type": "markdown",
      "source": [
        "# Performances evaluation"
      ],
      "metadata": {
        "id": "rCYZnsbUHTLo"
      }
    },
    {
      "cell_type": "code",
      "source": [
        "y_true = tf.concat([labels_batch for data_batch, labels_batch in test_dataset], axis = 0)\n",
        "print(\"Classification report: \")\n",
        "print(metrics.classification_report(y_true.numpy().argmax(axis=1), ensemble_pred, digits = 4))\n",
        "metrics.ConfusionMatrixDisplay.from_predictions(y_true.numpy().argmax(axis=1), ensemble_pred)"
      ],
      "metadata": {
        "colab": {
          "base_uri": "https://localhost:8080/",
          "height": 744
        },
        "id": "kPx4K-6yfJtE",
        "outputId": "ac43bcd3-e474-4fd0-c2b1-8691b378bc0a"
      },
      "execution_count": null,
      "outputs": [
        {
          "output_type": "stream",
          "name": "stdout",
          "text": [
            "Classification report: \n",
            "              precision    recall  f1-score   support\n",
            "\n",
            "           0     0.9597    0.9754    0.9675       122\n",
            "           1     0.9982    0.9954    0.9968      1095\n",
            "           2     0.9652    0.9142    0.9390       303\n",
            "           3     0.8864    0.9435    0.9141       124\n",
            "           4     0.9613    0.9933    0.9770       150\n",
            "           5     0.9864    0.9798    0.9831       297\n",
            "           6     0.8672    0.9174    0.8916       121\n",
            "           7     0.9826    0.9741    0.9784       116\n",
            "\n",
            "    accuracy                         0.9738      2328\n",
            "   macro avg     0.9509    0.9617    0.9559      2328\n",
            "weighted avg     0.9744    0.9738    0.9739      2328\n",
            "\n"
          ]
        },
        {
          "output_type": "execute_result",
          "data": {
            "text/plain": [
              "<sklearn.metrics._plot.confusion_matrix.ConfusionMatrixDisplay at 0x7f47a80c75e0>"
            ]
          },
          "metadata": {},
          "execution_count": 15
        },
        {
          "output_type": "display_data",
          "data": {
            "text/plain": [
              "<Figure size 640x480 with 2 Axes>"
            ],
            "image/png": "[encoded data removed]"
          },
          "metadata": {}
        }
      ]
    }
  ],
  "metadata": {
    "accelerator": "GPU",
    "colab": {
      "provenance": [],
      "include_colab_link": true
    },
    "gpuClass": "standard",
    "kernelspec": {
      "display_name": "Python 3",
      "name": "python3"
    },
    "language_info": {
      "name": "python"
    }
  },
  "nbformat": 4,
  "nbformat_minor": 0
}
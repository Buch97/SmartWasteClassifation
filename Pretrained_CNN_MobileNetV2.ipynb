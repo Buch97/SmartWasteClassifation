{
  "cells": [
    {
      "cell_type": "markdown",
      "metadata": {
        "id": "view-in-github",
        "colab_type": "text"
      },
      "source": [
        "<a href=\"https://colab.research.google.com/github/mattemugno/Smart-Waste-Classifation/blob/main/Pretrained_CNN_MobileNetV2.ipynb\" target=\"_parent\"><img src=\"https://colab.research.google.com/assets/colab-badge.svg\" alt=\"Open In Colab\"/></a>"
      ]
    },
    {
      "cell_type": "code",
      "execution_count": null,
      "metadata": {
        "id": "sJrzxl_6x5EY",
        "colab": {
          "base_uri": "https://localhost:8080/"
        },
        "outputId": "121c68b6-fc58-4a7f-d322-ea09977562b4"
      },
      "outputs": [
        {
          "output_type": "stream",
          "name": "stdout",
          "text": [
            "\u001b[?25l     \u001b[90m━━━━━━━━━━━━━━━━━━━━━━━━━━━━━━━━━━━━━━━━\u001b[0m \u001b[32m0.0/176.1 kB\u001b[0m \u001b[31m?\u001b[0m eta \u001b[36m-:--:--\u001b[0m\r\u001b[2K     \u001b[90m━━━━━━━━━━━━━━━━━━━━━━━━━━━━━━━━━━━━━━\u001b[0m \u001b[32m176.1/176.1 kB\u001b[0m \u001b[31m15.2 MB/s\u001b[0m eta \u001b[36m0:00:00\u001b[0m\n",
            "\u001b[?25h"
          ]
        }
      ],
      "source": [
        "import os\n",
        "from google.colab import drive\n",
        "import tensorflow as tf\n",
        "import numpy as np\n",
        "import cv2\n",
        "from PIL import Image, ImageFilter, ImageChops\n",
        "from matplotlib.pyplot import imshow\n",
        "from tensorflow import keras\n",
        "from sklearn.model_selection import KFold\n",
        "import matplotlib.pyplot as plt\n",
        "from tensorflow.keras import layers\n",
        "from tensorflow.keras.applications import ResNet50V2\n",
        "from tensorflow.keras.utils import image_dataset_from_directory\n",
        "from tensorflow.keras.utils import to_categorical\n",
        "from sklearn.preprocessing import label_binarize\n",
        "from sklearn.model_selection import StratifiedKFold\n",
        "from sklearn.metrics import roc_curve, auc\n",
        "import matplotlib.pyplot as plt\n",
        "from sklearn.metrics import RocCurveDisplay, confusion_matrix, ConfusionMatrixDisplay\n",
        "from sklearn import metrics\n",
        "import random\n",
        "import datetime\n",
        "import shutil\n",
        "\n",
        "!pip install -q -U keras-tuner\n",
        "import keras_tuner as kt"
      ]
    },
    {
      "cell_type": "code",
      "execution_count": null,
      "metadata": {
        "colab": {
          "base_uri": "https://localhost:8080/"
        },
        "id": "NAxDAGoHzx_k",
        "outputId": "7bd09169-5021-4c71-dd99-67327ca74d6e"
      },
      "outputs": [
        {
          "output_type": "stream",
          "name": "stdout",
          "text": [
            "Mounted at /content/drive/\n"
          ]
        }
      ],
      "source": [
        "drive.mount('/content/drive/', force_remount=True)\n",
        "!unzip -q \"/content/drive/My Drive/project/SplittedDataset.zip\" -d \"/content/dataset/\"\n",
        "dataset_path = \"/content/dataset/content/splitted_dataset\""
      ]
    },
    {
      "cell_type": "markdown",
      "source": [
        "# Data preparation"
      ],
      "metadata": {
        "id": "F0DPTYkmPRJv"
      }
    },
    {
      "cell_type": "code",
      "execution_count": null,
      "metadata": {
        "colab": {
          "base_uri": "https://localhost:8080/"
        },
        "id": "fc6ELWd9zyoD",
        "outputId": "de708d54-4772-443a-8879-3b6050cb6546"
      },
      "outputs": [
        {
          "output_type": "stream",
          "name": "stdout",
          "text": [
            "Training samples are: 7040\n",
            "Validation samples are: 2327\n",
            "Test samples are: 2328\n",
            "Kfold samples are: 8528\n"
          ]
        }
      ],
      "source": [
        "training_dir = dataset_path + \"/training_set\"\n",
        "test_dir = dataset_path + \"/test_set\"\n",
        "validation_dir = dataset_path + \"/validation_set\"\n",
        "kfold_dir = dataset_path + \"/kfold_set\"\n",
        "\n",
        "labels = ['battery', 'organic', 'paper', 'metal', 'plastic', 'trash', 'clothes', 'glass']\n",
        "a = 0\n",
        "b = 0\n",
        "c = 0\n",
        "d = 0\n",
        "for l in labels:\n",
        "  a += len(os.listdir(training_dir + \"/\" + str(l)))\n",
        "  b += len(os.listdir(validation_dir + \"/\" + str(l)))\n",
        "  c += len(os.listdir(test_dir + \"/\" + str(l)))\n",
        "  d += len(os.listdir(kfold_dir + \"/\" + str(l)))\n",
        "\n",
        "print(\"Training samples are: \" + str(a))\n",
        "print(\"Validation samples are: \" + str(b))\n",
        "print(\"Test samples are: \" + str(c))\n",
        "print(\"Kfold samples are: \" + str(d))"
      ]
    },
    {
      "cell_type": "code",
      "execution_count": null,
      "metadata": {
        "colab": {
          "base_uri": "https://localhost:8080/"
        },
        "id": "WHtgyVUyzygy",
        "outputId": "4df4c73e-1ed2-4558-c393-b3f6eaa47d6d"
      },
      "outputs": [
        {
          "output_type": "stream",
          "name": "stdout",
          "text": [
            "/content/dataset/content/splitted_dataset/training_set\n",
            "Number of files in the directory: 880\n"
          ]
        }
      ],
      "source": [
        "path = training_dir + \"/trash\" \n",
        "files = os.listdir(path)\n",
        "num_files = len(files)\n",
        "print(training_dir)\n",
        "print(\"Number of files in the directory:\", num_files)"
      ]
    },
    {
      "cell_type": "markdown",
      "source": [
        "With the following cell some BatchDataset objects are created to prepare our data for training and testing purposes"
      ],
      "metadata": {
        "id": "x-Ul5i1HJP6a"
      }
    },
    {
      "cell_type": "code",
      "execution_count": null,
      "metadata": {
        "colab": {
          "base_uri": "https://localhost:8080/"
        },
        "id": "nV6RJ4NkCZT-",
        "outputId": "a0e40450-7fa1-47ac-fea5-fb3637360836"
      },
      "outputs": [
        {
          "output_type": "stream",
          "name": "stdout",
          "text": [
            "Found 7040 files belonging to 8 classes.\n",
            "Found 2327 files belonging to 8 classes.\n",
            "Found 2328 files belonging to 8 classes.\n",
            "Found 8528 files belonging to 8 classes.\n"
          ]
        }
      ],
      "source": [
        "BATCH_SIZE = 32\n",
        "IMAGE_HEIGHT = 192\n",
        "IMAGE_WIDTH = 192\n",
        "\n",
        "\n",
        "train_dataset = image_dataset_from_directory(\n",
        "    training_dir,\n",
        "    color_mode='rgb',\n",
        "    labels='inferred',\n",
        "    label_mode='categorical',\n",
        "    shuffle=True,\n",
        "    image_size=(IMAGE_HEIGHT, IMAGE_WIDTH),\n",
        "    batch_size=BATCH_SIZE)\n",
        "\n",
        "validation_dataset = image_dataset_from_directory(\n",
        "    validation_dir,\n",
        "    color_mode='rgb',\n",
        "    labels='inferred',\n",
        "    label_mode='categorical',\n",
        "    shuffle=True,\n",
        "    image_size=(IMAGE_HEIGHT, IMAGE_WIDTH),\n",
        "    batch_size=BATCH_SIZE)\n",
        "\n",
        "test_dataset = image_dataset_from_directory(\n",
        "    test_dir,\n",
        "    color_mode='rgb',\n",
        "    labels='inferred',\n",
        "    label_mode='categorical',\n",
        "    shuffle=False,\n",
        "    image_size=(IMAGE_HEIGHT, IMAGE_WIDTH),\n",
        "    batch_size=BATCH_SIZE)\n",
        "\n",
        "kfold_dataset = image_dataset_from_directory(\n",
        "    kfold_dir,\n",
        "    color_mode='rgb',\n",
        "    labels='inferred',\n",
        "    label_mode='categorical',\n",
        "    shuffle=True,\n",
        "    image_size=(IMAGE_HEIGHT, IMAGE_WIDTH),\n",
        "    batch_size=BATCH_SIZE)"
      ]
    },
    {
      "cell_type": "code",
      "execution_count": null,
      "metadata": {
        "colab": {
          "base_uri": "https://localhost:8080/"
        },
        "id": "l-kZgXXfYYqv",
        "outputId": "22d0099a-df2c-4f49-d5ea-9bb70dd2139b"
      },
      "outputs": [
        {
          "output_type": "stream",
          "name": "stdout",
          "text": [
            "['battery', 'clothes', 'glass', 'metal', 'organic', 'paper', 'plastic', 'trash']\n"
          ]
        }
      ],
      "source": [
        "print(train_dataset.class_names)"
      ]
    },
    {
      "cell_type": "markdown",
      "metadata": {
        "id": "o1n58MSUQFw3"
      },
      "source": [
        "# Feature extraction"
      ]
    },
    {
      "cell_type": "markdown",
      "source": [
        "We add a layer to resize all images at the same dimensions and another one to normalize tensors related to images."
      ],
      "metadata": {
        "id": "Jf9cB9RCJfuL"
      }
    },
    {
      "cell_type": "code",
      "execution_count": null,
      "metadata": {
        "id": "iCLFLFtXS-Ic"
      },
      "outputs": [],
      "source": [
        "resize_and_rescale = tf.keras.Sequential([\n",
        "  layers.Resizing(IMAGE_HEIGHT, IMAGE_WIDTH),\n",
        "  layers.Rescaling(1./255)\n",
        "])"
      ]
    },
    {
      "cell_type": "markdown",
      "source": [
        "VGG16 pretrained CNN is downloaded with all associated weights from a repository"
      ],
      "metadata": {
        "id": "zD995kFuJvi0"
      }
    },
    {
      "cell_type": "code",
      "execution_count": null,
      "metadata": {
        "colab": {
          "base_uri": "https://localhost:8080/"
        },
        "id": "sdKaisXjQJdZ",
        "outputId": "a872a697-5ff5-4e70-99ac-db0e04eb2b2c"
      },
      "outputs": [
        {
          "output_type": "stream",
          "name": "stdout",
          "text": [
            "Downloading data from https://storage.googleapis.com/tensorflow/keras-applications/mobilenet_v2/mobilenet_v2_weights_tf_dim_ordering_tf_kernels_1.0_192_no_top.h5\n",
            "9406464/9406464 [==============================] - 1s 0us/step\n",
            "Model: \"mobilenetv2_1.00_192\"\n",
            "__________________________________________________________________________________________________\n",
            " Layer (type)                   Output Shape         Param #     Connected to                     \n",
            "==================================================================================================\n",
            " input_1 (InputLayer)           [(None, 192, 192, 3  0           []                               \n",
            "                                )]                                                                \n",
            "                                                                                                  \n",
            " Conv1 (Conv2D)                 (None, 96, 96, 32)   864         ['input_1[0][0]']                \n",
            "                                                                                                  \n",
            " bn_Conv1 (BatchNormalization)  (None, 96, 96, 32)   128         ['Conv1[0][0]']                  \n",
            "                                                                                                  \n",
            " Conv1_relu (ReLU)              (None, 96, 96, 32)   0           ['bn_Conv1[0][0]']               \n",
            "                                                                                                  \n",
            " expanded_conv_depthwise (Depth  (None, 96, 96, 32)  288         ['Conv1_relu[0][0]']             \n",
            " wiseConv2D)                                                                                      \n",
            "                                                                                                  \n",
            " expanded_conv_depthwise_BN (Ba  (None, 96, 96, 32)  128         ['expanded_conv_depthwise[0][0]']\n",
            " tchNormalization)                                                                                \n",
            "                                                                                                  \n",
            " expanded_conv_depthwise_relu (  (None, 96, 96, 32)  0           ['expanded_conv_depthwise_BN[0][0\n",
            " ReLU)                                                           ]']                              \n",
            "                                                                                                  \n",
            " expanded_conv_project (Conv2D)  (None, 96, 96, 16)  512         ['expanded_conv_depthwise_relu[0]\n",
            "                                                                 [0]']                            \n",
            "                                                                                                  \n",
            " expanded_conv_project_BN (Batc  (None, 96, 96, 16)  64          ['expanded_conv_project[0][0]']  \n",
            " hNormalization)                                                                                  \n",
            "                                                                                                  \n",
            " block_1_expand (Conv2D)        (None, 96, 96, 96)   1536        ['expanded_conv_project_BN[0][0]'\n",
            "                                                                 ]                                \n",
            "                                                                                                  \n",
            " block_1_expand_BN (BatchNormal  (None, 96, 96, 96)  384         ['block_1_expand[0][0]']         \n",
            " ization)                                                                                         \n",
            "                                                                                                  \n",
            " block_1_expand_relu (ReLU)     (None, 96, 96, 96)   0           ['block_1_expand_BN[0][0]']      \n",
            "                                                                                                  \n",
            " block_1_pad (ZeroPadding2D)    (None, 97, 97, 96)   0           ['block_1_expand_relu[0][0]']    \n",
            "                                                                                                  \n",
            " block_1_depthwise (DepthwiseCo  (None, 48, 48, 96)  864         ['block_1_pad[0][0]']            \n",
            " nv2D)                                                                                            \n",
            "                                                                                                  \n",
            " block_1_depthwise_BN (BatchNor  (None, 48, 48, 96)  384         ['block_1_depthwise[0][0]']      \n",
            " malization)                                                                                      \n",
            "                                                                                                  \n",
            " block_1_depthwise_relu (ReLU)  (None, 48, 48, 96)   0           ['block_1_depthwise_BN[0][0]']   \n",
            "                                                                                                  \n",
            " block_1_project (Conv2D)       (None, 48, 48, 24)   2304        ['block_1_depthwise_relu[0][0]'] \n",
            "                                                                                                  \n",
            " block_1_project_BN (BatchNorma  (None, 48, 48, 24)  96          ['block_1_project[0][0]']        \n",
            " lization)                                                                                        \n",
            "                                                                                                  \n",
            " block_2_expand (Conv2D)        (None, 48, 48, 144)  3456        ['block_1_project_BN[0][0]']     \n",
            "                                                                                                  \n",
            " block_2_expand_BN (BatchNormal  (None, 48, 48, 144)  576        ['block_2_expand[0][0]']         \n",
            " ization)                                                                                         \n",
            "                                                                                                  \n",
            " block_2_expand_relu (ReLU)     (None, 48, 48, 144)  0           ['block_2_expand_BN[0][0]']      \n",
            "                                                                                                  \n",
            " block_2_depthwise (DepthwiseCo  (None, 48, 48, 144)  1296       ['block_2_expand_relu[0][0]']    \n",
            " nv2D)                                                                                            \n",
            "                                                                                                  \n",
            " block_2_depthwise_BN (BatchNor  (None, 48, 48, 144)  576        ['block_2_depthwise[0][0]']      \n",
            " malization)                                                                                      \n",
            "                                                                                                  \n",
            " block_2_depthwise_relu (ReLU)  (None, 48, 48, 144)  0           ['block_2_depthwise_BN[0][0]']   \n",
            "                                                                                                  \n",
            " block_2_project (Conv2D)       (None, 48, 48, 24)   3456        ['block_2_depthwise_relu[0][0]'] \n",
            "                                                                                                  \n",
            " block_2_project_BN (BatchNorma  (None, 48, 48, 24)  96          ['block_2_project[0][0]']        \n",
            " lization)                                                                                        \n",
            "                                                                                                  \n",
            " block_2_add (Add)              (None, 48, 48, 24)   0           ['block_1_project_BN[0][0]',     \n",
            "                                                                  'block_2_project_BN[0][0]']     \n",
            "                                                                                                  \n",
            " block_3_expand (Conv2D)        (None, 48, 48, 144)  3456        ['block_2_add[0][0]']            \n",
            "                                                                                                  \n",
            " block_3_expand_BN (BatchNormal  (None, 48, 48, 144)  576        ['block_3_expand[0][0]']         \n",
            " ization)                                                                                         \n",
            "                                                                                                  \n",
            " block_3_expand_relu (ReLU)     (None, 48, 48, 144)  0           ['block_3_expand_BN[0][0]']      \n",
            "                                                                                                  \n",
            " block_3_pad (ZeroPadding2D)    (None, 49, 49, 144)  0           ['block_3_expand_relu[0][0]']    \n",
            "                                                                                                  \n",
            " block_3_depthwise (DepthwiseCo  (None, 24, 24, 144)  1296       ['block_3_pad[0][0]']            \n",
            " nv2D)                                                                                            \n",
            "                                                                                                  \n",
            " block_3_depthwise_BN (BatchNor  (None, 24, 24, 144)  576        ['block_3_depthwise[0][0]']      \n",
            " malization)                                                                                      \n",
            "                                                                                                  \n",
            " block_3_depthwise_relu (ReLU)  (None, 24, 24, 144)  0           ['block_3_depthwise_BN[0][0]']   \n",
            "                                                                                                  \n",
            " block_3_project (Conv2D)       (None, 24, 24, 32)   4608        ['block_3_depthwise_relu[0][0]'] \n",
            "                                                                                                  \n",
            " block_3_project_BN (BatchNorma  (None, 24, 24, 32)  128         ['block_3_project[0][0]']        \n",
            " lization)                                                                                        \n",
            "                                                                                                  \n",
            " block_4_expand (Conv2D)        (None, 24, 24, 192)  6144        ['block_3_project_BN[0][0]']     \n",
            "                                                                                                  \n",
            " block_4_expand_BN (BatchNormal  (None, 24, 24, 192)  768        ['block_4_expand[0][0]']         \n",
            " ization)                                                                                         \n",
            "                                                                                                  \n",
            " block_4_expand_relu (ReLU)     (None, 24, 24, 192)  0           ['block_4_expand_BN[0][0]']      \n",
            "                                                                                                  \n",
            " block_4_depthwise (DepthwiseCo  (None, 24, 24, 192)  1728       ['block_4_expand_relu[0][0]']    \n",
            " nv2D)                                                                                            \n",
            "                                                                                                  \n",
            " block_4_depthwise_BN (BatchNor  (None, 24, 24, 192)  768        ['block_4_depthwise[0][0]']      \n",
            " malization)                                                                                      \n",
            "                                                                                                  \n",
            " block_4_depthwise_relu (ReLU)  (None, 24, 24, 192)  0           ['block_4_depthwise_BN[0][0]']   \n",
            "                                                                                                  \n",
            " block_4_project (Conv2D)       (None, 24, 24, 32)   6144        ['block_4_depthwise_relu[0][0]'] \n",
            "                                                                                                  \n",
            " block_4_project_BN (BatchNorma  (None, 24, 24, 32)  128         ['block_4_project[0][0]']        \n",
            " lization)                                                                                        \n",
            "                                                                                                  \n",
            " block_4_add (Add)              (None, 24, 24, 32)   0           ['block_3_project_BN[0][0]',     \n",
            "                                                                  'block_4_project_BN[0][0]']     \n",
            "                                                                                                  \n",
            " block_5_expand (Conv2D)        (None, 24, 24, 192)  6144        ['block_4_add[0][0]']            \n",
            "                                                                                                  \n",
            " block_5_expand_BN (BatchNormal  (None, 24, 24, 192)  768        ['block_5_expand[0][0]']         \n",
            " ization)                                                                                         \n",
            "                                                                                                  \n",
            " block_5_expand_relu (ReLU)     (None, 24, 24, 192)  0           ['block_5_expand_BN[0][0]']      \n",
            "                                                                                                  \n",
            " block_5_depthwise (DepthwiseCo  (None, 24, 24, 192)  1728       ['block_5_expand_relu[0][0]']    \n",
            " nv2D)                                                                                            \n",
            "                                                                                                  \n",
            " block_5_depthwise_BN (BatchNor  (None, 24, 24, 192)  768        ['block_5_depthwise[0][0]']      \n",
            " malization)                                                                                      \n",
            "                                                                                                  \n",
            " block_5_depthwise_relu (ReLU)  (None, 24, 24, 192)  0           ['block_5_depthwise_BN[0][0]']   \n",
            "                                                                                                  \n",
            " block_5_project (Conv2D)       (None, 24, 24, 32)   6144        ['block_5_depthwise_relu[0][0]'] \n",
            "                                                                                                  \n",
            " block_5_project_BN (BatchNorma  (None, 24, 24, 32)  128         ['block_5_project[0][0]']        \n",
            " lization)                                                                                        \n",
            "                                                                                                  \n",
            " block_5_add (Add)              (None, 24, 24, 32)   0           ['block_4_add[0][0]',            \n",
            "                                                                  'block_5_project_BN[0][0]']     \n",
            "                                                                                                  \n",
            " block_6_expand (Conv2D)        (None, 24, 24, 192)  6144        ['block_5_add[0][0]']            \n",
            "                                                                                                  \n",
            " block_6_expand_BN (BatchNormal  (None, 24, 24, 192)  768        ['block_6_expand[0][0]']         \n",
            " ization)                                                                                         \n",
            "                                                                                                  \n",
            " block_6_expand_relu (ReLU)     (None, 24, 24, 192)  0           ['block_6_expand_BN[0][0]']      \n",
            "                                                                                                  \n",
            " block_6_pad (ZeroPadding2D)    (None, 25, 25, 192)  0           ['block_6_expand_relu[0][0]']    \n",
            "                                                                                                  \n",
            " block_6_depthwise (DepthwiseCo  (None, 12, 12, 192)  1728       ['block_6_pad[0][0]']            \n",
            " nv2D)                                                                                            \n",
            "                                                                                                  \n",
            " block_6_depthwise_BN (BatchNor  (None, 12, 12, 192)  768        ['block_6_depthwise[0][0]']      \n",
            " malization)                                                                                      \n",
            "                                                                                                  \n",
            " block_6_depthwise_relu (ReLU)  (None, 12, 12, 192)  0           ['block_6_depthwise_BN[0][0]']   \n",
            "                                                                                                  \n",
            " block_6_project (Conv2D)       (None, 12, 12, 64)   12288       ['block_6_depthwise_relu[0][0]'] \n",
            "                                                                                                  \n",
            " block_6_project_BN (BatchNorma  (None, 12, 12, 64)  256         ['block_6_project[0][0]']        \n",
            " lization)                                                                                        \n",
            "                                                                                                  \n",
            " block_7_expand (Conv2D)        (None, 12, 12, 384)  24576       ['block_6_project_BN[0][0]']     \n",
            "                                                                                                  \n",
            " block_7_expand_BN (BatchNormal  (None, 12, 12, 384)  1536       ['block_7_expand[0][0]']         \n",
            " ization)                                                                                         \n",
            "                                                                                                  \n",
            " block_7_expand_relu (ReLU)     (None, 12, 12, 384)  0           ['block_7_expand_BN[0][0]']      \n",
            "                                                                                                  \n",
            " block_7_depthwise (DepthwiseCo  (None, 12, 12, 384)  3456       ['block_7_expand_relu[0][0]']    \n",
            " nv2D)                                                                                            \n",
            "                                                                                                  \n",
            " block_7_depthwise_BN (BatchNor  (None, 12, 12, 384)  1536       ['block_7_depthwise[0][0]']      \n",
            " malization)                                                                                      \n",
            "                                                                                                  \n",
            " block_7_depthwise_relu (ReLU)  (None, 12, 12, 384)  0           ['block_7_depthwise_BN[0][0]']   \n",
            "                                                                                                  \n",
            " block_7_project (Conv2D)       (None, 12, 12, 64)   24576       ['block_7_depthwise_relu[0][0]'] \n",
            "                                                                                                  \n",
            " block_7_project_BN (BatchNorma  (None, 12, 12, 64)  256         ['block_7_project[0][0]']        \n",
            " lization)                                                                                        \n",
            "                                                                                                  \n",
            " block_7_add (Add)              (None, 12, 12, 64)   0           ['block_6_project_BN[0][0]',     \n",
            "                                                                  'block_7_project_BN[0][0]']     \n",
            "                                                                                                  \n",
            " block_8_expand (Conv2D)        (None, 12, 12, 384)  24576       ['block_7_add[0][0]']            \n",
            "                                                                                                  \n",
            " block_8_expand_BN (BatchNormal  (None, 12, 12, 384)  1536       ['block_8_expand[0][0]']         \n",
            " ization)                                                                                         \n",
            "                                                                                                  \n",
            " block_8_expand_relu (ReLU)     (None, 12, 12, 384)  0           ['block_8_expand_BN[0][0]']      \n",
            "                                                                                                  \n",
            " block_8_depthwise (DepthwiseCo  (None, 12, 12, 384)  3456       ['block_8_expand_relu[0][0]']    \n",
            " nv2D)                                                                                            \n",
            "                                                                                                  \n",
            " block_8_depthwise_BN (BatchNor  (None, 12, 12, 384)  1536       ['block_8_depthwise[0][0]']      \n",
            " malization)                                                                                      \n",
            "                                                                                                  \n",
            " block_8_depthwise_relu (ReLU)  (None, 12, 12, 384)  0           ['block_8_depthwise_BN[0][0]']   \n",
            "                                                                                                  \n",
            " block_8_project (Conv2D)       (None, 12, 12, 64)   24576       ['block_8_depthwise_relu[0][0]'] \n",
            "                                                                                                  \n",
            " block_8_project_BN (BatchNorma  (None, 12, 12, 64)  256         ['block_8_project[0][0]']        \n",
            " lization)                                                                                        \n",
            "                                                                                                  \n",
            " block_8_add (Add)              (None, 12, 12, 64)   0           ['block_7_add[0][0]',            \n",
            "                                                                  'block_8_project_BN[0][0]']     \n",
            "                                                                                                  \n",
            " block_9_expand (Conv2D)        (None, 12, 12, 384)  24576       ['block_8_add[0][0]']            \n",
            "                                                                                                  \n",
            " block_9_expand_BN (BatchNormal  (None, 12, 12, 384)  1536       ['block_9_expand[0][0]']         \n",
            " ization)                                                                                         \n",
            "                                                                                                  \n",
            " block_9_expand_relu (ReLU)     (None, 12, 12, 384)  0           ['block_9_expand_BN[0][0]']      \n",
            "                                                                                                  \n",
            " block_9_depthwise (DepthwiseCo  (None, 12, 12, 384)  3456       ['block_9_expand_relu[0][0]']    \n",
            " nv2D)                                                                                            \n",
            "                                                                                                  \n",
            " block_9_depthwise_BN (BatchNor  (None, 12, 12, 384)  1536       ['block_9_depthwise[0][0]']      \n",
            " malization)                                                                                      \n",
            "                                                                                                  \n",
            " block_9_depthwise_relu (ReLU)  (None, 12, 12, 384)  0           ['block_9_depthwise_BN[0][0]']   \n",
            "                                                                                                  \n",
            " block_9_project (Conv2D)       (None, 12, 12, 64)   24576       ['block_9_depthwise_relu[0][0]'] \n",
            "                                                                                                  \n",
            " block_9_project_BN (BatchNorma  (None, 12, 12, 64)  256         ['block_9_project[0][0]']        \n",
            " lization)                                                                                        \n",
            "                                                                                                  \n",
            " block_9_add (Add)              (None, 12, 12, 64)   0           ['block_8_add[0][0]',            \n",
            "                                                                  'block_9_project_BN[0][0]']     \n",
            "                                                                                                  \n",
            " block_10_expand (Conv2D)       (None, 12, 12, 384)  24576       ['block_9_add[0][0]']            \n",
            "                                                                                                  \n",
            " block_10_expand_BN (BatchNorma  (None, 12, 12, 384)  1536       ['block_10_expand[0][0]']        \n",
            " lization)                                                                                        \n",
            "                                                                                                  \n",
            " block_10_expand_relu (ReLU)    (None, 12, 12, 384)  0           ['block_10_expand_BN[0][0]']     \n",
            "                                                                                                  \n",
            " block_10_depthwise (DepthwiseC  (None, 12, 12, 384)  3456       ['block_10_expand_relu[0][0]']   \n",
            " onv2D)                                                                                           \n",
            "                                                                                                  \n",
            " block_10_depthwise_BN (BatchNo  (None, 12, 12, 384)  1536       ['block_10_depthwise[0][0]']     \n",
            " rmalization)                                                                                     \n",
            "                                                                                                  \n",
            " block_10_depthwise_relu (ReLU)  (None, 12, 12, 384)  0          ['block_10_depthwise_BN[0][0]']  \n",
            "                                                                                                  \n",
            " block_10_project (Conv2D)      (None, 12, 12, 96)   36864       ['block_10_depthwise_relu[0][0]']\n",
            "                                                                                                  \n",
            " block_10_project_BN (BatchNorm  (None, 12, 12, 96)  384         ['block_10_project[0][0]']       \n",
            " alization)                                                                                       \n",
            "                                                                                                  \n",
            " block_11_expand (Conv2D)       (None, 12, 12, 576)  55296       ['block_10_project_BN[0][0]']    \n",
            "                                                                                                  \n",
            " block_11_expand_BN (BatchNorma  (None, 12, 12, 576)  2304       ['block_11_expand[0][0]']        \n",
            " lization)                                                                                        \n",
            "                                                                                                  \n",
            " block_11_expand_relu (ReLU)    (None, 12, 12, 576)  0           ['block_11_expand_BN[0][0]']     \n",
            "                                                                                                  \n",
            " block_11_depthwise (DepthwiseC  (None, 12, 12, 576)  5184       ['block_11_expand_relu[0][0]']   \n",
            " onv2D)                                                                                           \n",
            "                                                                                                  \n",
            " block_11_depthwise_BN (BatchNo  (None, 12, 12, 576)  2304       ['block_11_depthwise[0][0]']     \n",
            " rmalization)                                                                                     \n",
            "                                                                                                  \n",
            " block_11_depthwise_relu (ReLU)  (None, 12, 12, 576)  0          ['block_11_depthwise_BN[0][0]']  \n",
            "                                                                                                  \n",
            " block_11_project (Conv2D)      (None, 12, 12, 96)   55296       ['block_11_depthwise_relu[0][0]']\n",
            "                                                                                                  \n",
            " block_11_project_BN (BatchNorm  (None, 12, 12, 96)  384         ['block_11_project[0][0]']       \n",
            " alization)                                                                                       \n",
            "                                                                                                  \n",
            " block_11_add (Add)             (None, 12, 12, 96)   0           ['block_10_project_BN[0][0]',    \n",
            "                                                                  'block_11_project_BN[0][0]']    \n",
            "                                                                                                  \n",
            " block_12_expand (Conv2D)       (None, 12, 12, 576)  55296       ['block_11_add[0][0]']           \n",
            "                                                                                                  \n",
            " block_12_expand_BN (BatchNorma  (None, 12, 12, 576)  2304       ['block_12_expand[0][0]']        \n",
            " lization)                                                                                        \n",
            "                                                                                                  \n",
            " block_12_expand_relu (ReLU)    (None, 12, 12, 576)  0           ['block_12_expand_BN[0][0]']     \n",
            "                                                                                                  \n",
            " block_12_depthwise (DepthwiseC  (None, 12, 12, 576)  5184       ['block_12_expand_relu[0][0]']   \n",
            " onv2D)                                                                                           \n",
            "                                                                                                  \n",
            " block_12_depthwise_BN (BatchNo  (None, 12, 12, 576)  2304       ['block_12_depthwise[0][0]']     \n",
            " rmalization)                                                                                     \n",
            "                                                                                                  \n",
            " block_12_depthwise_relu (ReLU)  (None, 12, 12, 576)  0          ['block_12_depthwise_BN[0][0]']  \n",
            "                                                                                                  \n",
            " block_12_project (Conv2D)      (None, 12, 12, 96)   55296       ['block_12_depthwise_relu[0][0]']\n",
            "                                                                                                  \n",
            " block_12_project_BN (BatchNorm  (None, 12, 12, 96)  384         ['block_12_project[0][0]']       \n",
            " alization)                                                                                       \n",
            "                                                                                                  \n",
            " block_12_add (Add)             (None, 12, 12, 96)   0           ['block_11_add[0][0]',           \n",
            "                                                                  'block_12_project_BN[0][0]']    \n",
            "                                                                                                  \n",
            " block_13_expand (Conv2D)       (None, 12, 12, 576)  55296       ['block_12_add[0][0]']           \n",
            "                                                                                                  \n",
            " block_13_expand_BN (BatchNorma  (None, 12, 12, 576)  2304       ['block_13_expand[0][0]']        \n",
            " lization)                                                                                        \n",
            "                                                                                                  \n",
            " block_13_expand_relu (ReLU)    (None, 12, 12, 576)  0           ['block_13_expand_BN[0][0]']     \n",
            "                                                                                                  \n",
            " block_13_pad (ZeroPadding2D)   (None, 13, 13, 576)  0           ['block_13_expand_relu[0][0]']   \n",
            "                                                                                                  \n",
            " block_13_depthwise (DepthwiseC  (None, 6, 6, 576)   5184        ['block_13_pad[0][0]']           \n",
            " onv2D)                                                                                           \n",
            "                                                                                                  \n",
            " block_13_depthwise_BN (BatchNo  (None, 6, 6, 576)   2304        ['block_13_depthwise[0][0]']     \n",
            " rmalization)                                                                                     \n",
            "                                                                                                  \n",
            " block_13_depthwise_relu (ReLU)  (None, 6, 6, 576)   0           ['block_13_depthwise_BN[0][0]']  \n",
            "                                                                                                  \n",
            " block_13_project (Conv2D)      (None, 6, 6, 160)    92160       ['block_13_depthwise_relu[0][0]']\n",
            "                                                                                                  \n",
            " block_13_project_BN (BatchNorm  (None, 6, 6, 160)   640         ['block_13_project[0][0]']       \n",
            " alization)                                                                                       \n",
            "                                                                                                  \n",
            " block_14_expand (Conv2D)       (None, 6, 6, 960)    153600      ['block_13_project_BN[0][0]']    \n",
            "                                                                                                  \n",
            " block_14_expand_BN (BatchNorma  (None, 6, 6, 960)   3840        ['block_14_expand[0][0]']        \n",
            " lization)                                                                                        \n",
            "                                                                                                  \n",
            " block_14_expand_relu (ReLU)    (None, 6, 6, 960)    0           ['block_14_expand_BN[0][0]']     \n",
            "                                                                                                  \n",
            " block_14_depthwise (DepthwiseC  (None, 6, 6, 960)   8640        ['block_14_expand_relu[0][0]']   \n",
            " onv2D)                                                                                           \n",
            "                                                                                                  \n",
            " block_14_depthwise_BN (BatchNo  (None, 6, 6, 960)   3840        ['block_14_depthwise[0][0]']     \n",
            " rmalization)                                                                                     \n",
            "                                                                                                  \n",
            " block_14_depthwise_relu (ReLU)  (None, 6, 6, 960)   0           ['block_14_depthwise_BN[0][0]']  \n",
            "                                                                                                  \n",
            " block_14_project (Conv2D)      (None, 6, 6, 160)    153600      ['block_14_depthwise_relu[0][0]']\n",
            "                                                                                                  \n",
            " block_14_project_BN (BatchNorm  (None, 6, 6, 160)   640         ['block_14_project[0][0]']       \n",
            " alization)                                                                                       \n",
            "                                                                                                  \n",
            " block_14_add (Add)             (None, 6, 6, 160)    0           ['block_13_project_BN[0][0]',    \n",
            "                                                                  'block_14_project_BN[0][0]']    \n",
            "                                                                                                  \n",
            " block_15_expand (Conv2D)       (None, 6, 6, 960)    153600      ['block_14_add[0][0]']           \n",
            "                                                                                                  \n",
            " block_15_expand_BN (BatchNorma  (None, 6, 6, 960)   3840        ['block_15_expand[0][0]']        \n",
            " lization)                                                                                        \n",
            "                                                                                                  \n",
            " block_15_expand_relu (ReLU)    (None, 6, 6, 960)    0           ['block_15_expand_BN[0][0]']     \n",
            "                                                                                                  \n",
            " block_15_depthwise (DepthwiseC  (None, 6, 6, 960)   8640        ['block_15_expand_relu[0][0]']   \n",
            " onv2D)                                                                                           \n",
            "                                                                                                  \n",
            " block_15_depthwise_BN (BatchNo  (None, 6, 6, 960)   3840        ['block_15_depthwise[0][0]']     \n",
            " rmalization)                                                                                     \n",
            "                                                                                                  \n",
            " block_15_depthwise_relu (ReLU)  (None, 6, 6, 960)   0           ['block_15_depthwise_BN[0][0]']  \n",
            "                                                                                                  \n",
            " block_15_project (Conv2D)      (None, 6, 6, 160)    153600      ['block_15_depthwise_relu[0][0]']\n",
            "                                                                                                  \n",
            " block_15_project_BN (BatchNorm  (None, 6, 6, 160)   640         ['block_15_project[0][0]']       \n",
            " alization)                                                                                       \n",
            "                                                                                                  \n",
            " block_15_add (Add)             (None, 6, 6, 160)    0           ['block_14_add[0][0]',           \n",
            "                                                                  'block_15_project_BN[0][0]']    \n",
            "                                                                                                  \n",
            " block_16_expand (Conv2D)       (None, 6, 6, 960)    153600      ['block_15_add[0][0]']           \n",
            "                                                                                                  \n",
            " block_16_expand_BN (BatchNorma  (None, 6, 6, 960)   3840        ['block_16_expand[0][0]']        \n",
            " lization)                                                                                        \n",
            "                                                                                                  \n",
            " block_16_expand_relu (ReLU)    (None, 6, 6, 960)    0           ['block_16_expand_BN[0][0]']     \n",
            "                                                                                                  \n",
            " block_16_depthwise (DepthwiseC  (None, 6, 6, 960)   8640        ['block_16_expand_relu[0][0]']   \n",
            " onv2D)                                                                                           \n",
            "                                                                                                  \n",
            " block_16_depthwise_BN (BatchNo  (None, 6, 6, 960)   3840        ['block_16_depthwise[0][0]']     \n",
            " rmalization)                                                                                     \n",
            "                                                                                                  \n",
            " block_16_depthwise_relu (ReLU)  (None, 6, 6, 960)   0           ['block_16_depthwise_BN[0][0]']  \n",
            "                                                                                                  \n",
            " block_16_project (Conv2D)      (None, 6, 6, 320)    307200      ['block_16_depthwise_relu[0][0]']\n",
            "                                                                                                  \n",
            " block_16_project_BN (BatchNorm  (None, 6, 6, 320)   1280        ['block_16_project[0][0]']       \n",
            " alization)                                                                                       \n",
            "                                                                                                  \n",
            " Conv_1 (Conv2D)                (None, 6, 6, 1280)   409600      ['block_16_project_BN[0][0]']    \n",
            "                                                                                                  \n",
            " Conv_1_bn (BatchNormalization)  (None, 6, 6, 1280)  5120        ['Conv_1[0][0]']                 \n",
            "                                                                                                  \n",
            " out_relu (ReLU)                (None, 6, 6, 1280)   0           ['Conv_1_bn[0][0]']              \n",
            "                                                                                                  \n",
            "==================================================================================================\n",
            "Total params: 2,257,984\n",
            "Trainable params: 2,223,872\n",
            "Non-trainable params: 34,112\n",
            "__________________________________________________________________________________________________\n"
          ]
        }
      ],
      "source": [
        "conv_base = keras.applications.mobilenet_v2.MobileNetV2(\n",
        "    weights=\"imagenet\",\n",
        "    include_top=False,\n",
        "    classes=8,\n",
        "    input_shape=(IMAGE_HEIGHT, IMAGE_WIDTH, 3))\n",
        "conv_base.summary()"
      ]
    },
    {
      "cell_type": "code",
      "execution_count": null,
      "metadata": {
        "id": "xRm9XqCqRK4X"
      },
      "outputs": [],
      "source": [
        "conv_base.trainable = False"
      ]
    },
    {
      "cell_type": "markdown",
      "source": [
        "We build the model by adding some extra custom layer to the pretrained CNN"
      ],
      "metadata": {
        "id": "GbIoiJFQzQXc"
      }
    },
    {
      "cell_type": "code",
      "execution_count": null,
      "metadata": {
        "id": "n58QnK0FRyjL"
      },
      "outputs": [],
      "source": [
        "inputs = keras.Input(shape=(IMAGE_HEIGHT, IMAGE_WIDTH, 3))\n",
        "x = resize_and_rescale(inputs)\n",
        "x = keras.applications.mobilenet_v2.preprocess_input(inputs)\n",
        "x = conv_base(x)\n",
        "x = layers.Flatten(name='my_flatten')(x)\n",
        "# x = layers.Dense(256, activation='relu', name='my_dense1')(x)\n",
        "# x = layers.Dense(256, activation='relu', name='my_dense2')(x)\n",
        "# x = layers.Dropout(0.3)(x)\n",
        "outputs = layers.Dense(8, activation=\"softmax\", name='predictions')(x)\n",
        "model = keras.Model(inputs, outputs)\n",
        "\n",
        "model.compile(loss=\"categorical_crossentropy\",\n",
        "              optimizer=keras.optimizers.Adam(learning_rate=0.0001),\n",
        "              metrics=[\"accuracy\"])"
      ]
    },
    {
      "cell_type": "code",
      "execution_count": null,
      "metadata": {
        "colab": {
          "base_uri": "https://localhost:8080/"
        },
        "id": "N0eL6Qf_SZM4",
        "outputId": "4d4614e4-d662-44b2-81aa-933ff7180817"
      },
      "outputs": [
        {
          "output_type": "stream",
          "name": "stdout",
          "text": [
            "Model: \"model\"\n",
            "_________________________________________________________________\n",
            " Layer (type)                Output Shape              Param #   \n",
            "=================================================================\n",
            " input_2 (InputLayer)        [(None, 192, 192, 3)]     0         \n",
            "                                                                 \n",
            " tf.math.truediv (TFOpLambda  (None, 192, 192, 3)      0         \n",
            " )                                                               \n",
            "                                                                 \n",
            " tf.math.subtract (TFOpLambd  (None, 192, 192, 3)      0         \n",
            " a)                                                              \n",
            "                                                                 \n",
            " mobilenetv2_1.00_192 (Funct  (None, 6, 6, 1280)       2257984   \n",
            " ional)                                                          \n",
            "                                                                 \n",
            " my_flatten (Flatten)        (None, 46080)             0         \n",
            "                                                                 \n",
            " predictions (Dense)         (None, 8)                 368648    \n",
            "                                                                 \n",
            "=================================================================\n",
            "Total params: 2,626,632\n",
            "Trainable params: 368,648\n",
            "Non-trainable params: 2,257,984\n",
            "_________________________________________________________________\n"
          ]
        }
      ],
      "source": [
        "model.summary()"
      ]
    },
    {
      "cell_type": "code",
      "execution_count": null,
      "metadata": {
        "id": "4h2QTFCN23Dy"
      },
      "outputs": [],
      "source": [
        "dir_name = \"/content/drive/My Drive/\"\n",
        "if not os.path.exists(dir_name):\n",
        "  os.makedirs(dir_name)\n",
        "save_path = os.path.join(dir_name, 'checkpoint_mobilenet.h5')\n",
        "\n",
        "callbacks_list = [\n",
        "    keras.callbacks.EarlyStopping(\n",
        "      monitor='val_accuracy',\n",
        "      min_delta=1e-3,\n",
        "      patience=5,\n",
        "    ),\n",
        "    keras.callbacks.ModelCheckpoint(\n",
        "    filepath=save_path,\n",
        "    monitor=\"val_loss\",\n",
        "    verbose=1,\n",
        "    save_best_only=True)\n",
        "]"
      ]
    },
    {
      "cell_type": "markdown",
      "source": [
        "## Simple hold-out validation\n",
        "We perform a classic holdout validation with a fixed validation set. Data are splitted in this way:\n",
        "- Training 70%\n",
        "- Validation 15%\n",
        "- Test 15%"
      ],
      "metadata": {
        "id": "YocDM1hOKoiG"
      }
    },
    {
      "cell_type": "code",
      "execution_count": null,
      "metadata": {
        "colab": {
          "base_uri": "https://localhost:8080/"
        },
        "id": "R6qifQev3EPf",
        "outputId": "6f23bd4d-b28d-4517-e449-7c19ef3b9e8e"
      },
      "outputs": [
        {
          "output_type": "stream",
          "name": "stdout",
          "text": [
            "Epoch 1/30\n",
            "220/220 [==============================] - ETA: 0s - loss: 0.5363 - accuracy: 0.8243\n",
            "Epoch 1: val_loss improved from inf to 0.22570, saving model to /content/drive/My Drive/checkpoint_mobilenet.h5\n",
            "220/220 [==============================] - 30s 67ms/step - loss: 0.5363 - accuracy: 0.8243 - val_loss: 0.2257 - val_accuracy: 0.9269\n",
            "Epoch 2/30\n",
            "219/220 [============================>.] - ETA: 0s - loss: 0.0798 - accuracy: 0.9773\n",
            "Epoch 2: val_loss improved from 0.22570 to 0.22536, saving model to /content/drive/My Drive/checkpoint_mobilenet.h5\n",
            "220/220 [==============================] - 14s 63ms/step - loss: 0.0796 - accuracy: 0.9774 - val_loss: 0.2254 - val_accuracy: 0.9269\n",
            "Epoch 3/30\n",
            "220/220 [==============================] - ETA: 0s - loss: 0.0258 - accuracy: 0.9979\n",
            "Epoch 3: val_loss improved from 0.22536 to 0.20075, saving model to /content/drive/My Drive/checkpoint_mobilenet.h5\n",
            "220/220 [==============================] - 16s 71ms/step - loss: 0.0258 - accuracy: 0.9979 - val_loss: 0.2008 - val_accuracy: 0.9355\n",
            "Epoch 4/30\n",
            "220/220 [==============================] - ETA: 0s - loss: 0.0144 - accuracy: 0.9996\n",
            "Epoch 4: val_loss did not improve from 0.20075\n",
            "220/220 [==============================] - 13s 60ms/step - loss: 0.0144 - accuracy: 0.9996 - val_loss: 0.2048 - val_accuracy: 0.9373\n",
            "Epoch 5/30\n",
            "220/220 [==============================] - ETA: 0s - loss: 0.0104 - accuracy: 0.9997\n",
            "Epoch 5: val_loss did not improve from 0.20075\n",
            "220/220 [==============================] - 13s 60ms/step - loss: 0.0104 - accuracy: 0.9997 - val_loss: 0.2014 - val_accuracy: 0.9407\n",
            "Epoch 6/30\n",
            "219/220 [============================>.] - ETA: 0s - loss: 0.0092 - accuracy: 0.9997\n",
            "Epoch 6: val_loss did not improve from 0.20075\n",
            "220/220 [==============================] - 13s 59ms/step - loss: 0.0092 - accuracy: 0.9997 - val_loss: 0.2013 - val_accuracy: 0.9433\n",
            "Epoch 7/30\n",
            "220/220 [==============================] - ETA: 0s - loss: 0.0085 - accuracy: 0.9997\n",
            "Epoch 7: val_loss did not improve from 0.20075\n",
            "220/220 [==============================] - 13s 59ms/step - loss: 0.0085 - accuracy: 0.9997 - val_loss: 0.2027 - val_accuracy: 0.9437\n",
            "Epoch 8/30\n",
            "220/220 [==============================] - ETA: 0s - loss: 0.0078 - accuracy: 0.9997\n",
            "Epoch 8: val_loss did not improve from 0.20075\n",
            "220/220 [==============================] - 13s 58ms/step - loss: 0.0078 - accuracy: 0.9997 - val_loss: 0.2116 - val_accuracy: 0.9437\n",
            "Epoch 9/30\n",
            "220/220 [==============================] - ETA: 0s - loss: 0.0075 - accuracy: 0.9997\n",
            "Epoch 9: val_loss did not improve from 0.20075\n",
            "220/220 [==============================] - 13s 58ms/step - loss: 0.0075 - accuracy: 0.9997 - val_loss: 0.2127 - val_accuracy: 0.9450\n",
            "Epoch 10/30\n",
            "220/220 [==============================] - ETA: 0s - loss: 0.0074 - accuracy: 0.9997\n",
            "Epoch 10: val_loss did not improve from 0.20075\n",
            "220/220 [==============================] - 13s 59ms/step - loss: 0.0074 - accuracy: 0.9997 - val_loss: 0.2220 - val_accuracy: 0.9424\n",
            "Epoch 11/30\n",
            "219/220 [============================>.] - ETA: 0s - loss: 0.0073 - accuracy: 0.9997\n",
            "Epoch 11: val_loss did not improve from 0.20075\n",
            "220/220 [==============================] - 13s 58ms/step - loss: 0.0073 - accuracy: 0.9997 - val_loss: 0.2228 - val_accuracy: 0.9433\n",
            "Epoch 12/30\n",
            "220/220 [==============================] - ETA: 0s - loss: 0.0072 - accuracy: 0.9997\n",
            "Epoch 12: val_loss did not improve from 0.20075\n",
            "220/220 [==============================] - 13s 58ms/step - loss: 0.0072 - accuracy: 0.9997 - val_loss: 0.2194 - val_accuracy: 0.9459\n",
            "Epoch 13/30\n",
            "220/220 [==============================] - ETA: 0s - loss: 0.0072 - accuracy: 0.9997\n",
            "Epoch 13: val_loss did not improve from 0.20075\n",
            "220/220 [==============================] - 13s 58ms/step - loss: 0.0072 - accuracy: 0.9997 - val_loss: 0.2242 - val_accuracy: 0.9437\n",
            "Epoch 14/30\n",
            "220/220 [==============================] - ETA: 0s - loss: 0.0073 - accuracy: 0.9997\n",
            "Epoch 14: val_loss did not improve from 0.20075\n",
            "220/220 [==============================] - 13s 59ms/step - loss: 0.0073 - accuracy: 0.9997 - val_loss: 0.2245 - val_accuracy: 0.9441\n"
          ]
        }
      ],
      "source": [
        "history = model.fit(\n",
        "    train_dataset,\n",
        "    epochs=30, \n",
        "    validation_data=validation_dataset,\n",
        "    callbacks = callbacks_list\n",
        ")\n",
        "# MODELLO BASE 60/20/20 + CROP --> loss: 0.1583 - accuracy: 0.9534 - val_loss: 0.2664 - val_accuracy: 0.9081\n",
        "# MODELLO BASE 70/15/15 NO CROP --> loss: 0.0970 - accuracy: 0.9790 - val_loss: 0.2075 - val_accuracy: 0.9355\n",
        "# FINE-TUNING-conv5_block3_out --> loss: 0.1089 - accuracy: 0.9750 - val_loss: 0.2043 - val_accuracy: 0.9321\n",
        "# FINE-TUNING-conv5_block3 --> loss: 0.0029 - accuracy: 0.9997 - val_loss: 0.1871 - val_accuracy: 0.9519\n",
        "# FINE-TUNING-conv5_block2 and conv5_block3 --> loss: 0.0156 - accuracy: 0.9957 - val_loss: 0.2001 - val_accuracy: 0.9480\n",
        "# FINE-TUNING-conv5_blovk1 and conv5_block2 and conv5_block3 --> loss: 0.0083 - accuracy: 0.9977 - val_loss: 0.1831 - val_accuracy: 0.9566\n",
        "# MODELLO BASE + DENSE + DROPOUT(0.5) --> loss: 0.0407 - accuracy: 0.9898 - val_loss: 0.1812 - val_accuracy: 0.9403\n",
        "# MODELLO BASE + 2DENSE + 2DROPOUT(0.5) --> loss: 0.2655 - accuracy: 0.9059 - val_loss: 0.1952 - val_accuracy: 0.9355\n",
        "# MODELLO BASE + DENSE + 2DROPOUT(0.1) --> loss: 4.7143e-04 - accuracy: 0.9997 - val_loss: 0.2546 - val_accuracy: 0.9544\n",
        "# FINE-TUNING-conv5_blovk1 and conv5_block2 and conv5_block3 --> loss: 0.0193 - accuracy: 0.9950 - val_loss: 0.2549 - val_accuracy: 0.9424"
      ]
    },
    {
      "cell_type": "code",
      "execution_count": null,
      "metadata": {
        "colab": {
          "base_uri": "https://localhost:8080/",
          "height": 887
        },
        "id": "HS3wiyUfrTCJ",
        "outputId": "ad2f5d44-4faf-498f-f6bd-9719fbd8e79f"
      },
      "outputs": [
        {
          "output_type": "display_data",
          "data": {
            "text/plain": [
              "<Figure size 640x480 with 1 Axes>"
            ],
            "image/png": "[encoded data removed]"
          },
          "metadata": {}
        },
        {
          "output_type": "display_data",
          "data": {
            "text/plain": [
              "<Figure size 640x480 with 1 Axes>"
            ],
            "image/png": "[encoded data removed]"
          },
          "metadata": {}
        }
      ],
      "source": [
        "acc_1 = history.history['accuracy']\n",
        "val_acc_1 = history.history['val_accuracy']\n",
        "loss_1 = history.history['loss']\n",
        "val_loss_1 = history.history['val_loss']\n",
        "\n",
        "epochs = range(len(acc_1))\n",
        "\n",
        "plt.plot(epochs, acc_1, 'r', label='Training acc')\n",
        "plt.plot(epochs, val_acc_1, 'b', label='Validation acc')\n",
        "plt.title('Training and validation accuracy')\n",
        "plt.legend()\n",
        "\n",
        "plt.figure()\n",
        "\n",
        "plt.plot(epochs, loss_1, 'r', label='Training loss')\n",
        "plt.plot(epochs, val_loss_1, 'b', label='Validation loss')\n",
        "plt.title('Training and validation loss')\n",
        "plt.legend()\n",
        "\n",
        "plt.show()"
      ]
    },
    {
      "cell_type": "code",
      "execution_count": null,
      "metadata": {
        "colab": {
          "base_uri": "https://localhost:8080/"
        },
        "id": "zmA75gDhwfs5",
        "outputId": "70ad0961-9fea-483c-e03b-655d3aa45a02"
      },
      "outputs": [
        {
          "output_type": "stream",
          "name": "stdout",
          "text": [
            "73/73 [==============================] - 4s 51ms/step\n"
          ]
        }
      ],
      "source": [
        "results = model.predict(test_dataset)"
      ]
    },
    {
      "cell_type": "code",
      "execution_count": null,
      "metadata": {
        "colab": {
          "base_uri": "https://localhost:8080/"
        },
        "id": "O7upPPTWxPCG",
        "outputId": "f6cedbca-918f-4d58-b555-ff03bdb256b1"
      },
      "outputs": [
        {
          "output_type": "stream",
          "name": "stdout",
          "text": [
            "73/73 [==============================] - 4s 53ms/step - loss: 0.1835 - accuracy: 0.9493\n"
          ]
        },
        {
          "output_type": "execute_result",
          "data": {
            "text/plain": [
              "[0.18350794911384583, 0.949312686920166]"
            ]
          },
          "metadata": {},
          "execution_count": 16
        }
      ],
      "source": [
        "model.evaluate(test_dataset)"
      ]
    },
    {
      "cell_type": "code",
      "execution_count": null,
      "metadata": {
        "colab": {
          "base_uri": "https://localhost:8080/",
          "height": 779
        },
        "id": "f6iemLV7zfht",
        "outputId": "aaefd2b6-a4f5-413e-89c4-468f72b06595"
      },
      "outputs": [
        {
          "output_type": "stream",
          "name": "stdout",
          "text": [
            "73/73 [==============================] - 5s 50ms/step\n",
            "Classification report: \n",
            "[0 0 0 ... 7 7 7]\n",
            "              precision    recall  f1-score   support\n",
            "\n",
            "           0     0.7778    0.9754    0.8655       122\n",
            "           1     0.9981    0.9671    0.9824      1095\n",
            "           2     0.9491    0.8614    0.9031       303\n",
            "           3     0.7651    0.9194    0.8352       124\n",
            "           4     0.9367    0.9867    0.9610       150\n",
            "           5     0.9544    0.9158    0.9347       297\n",
            "           6     0.7984    0.8512    0.8240       121\n",
            "           7     0.9407    0.9569    0.9487       116\n",
            "\n",
            "    accuracy                         0.9394      2328\n",
            "   macro avg     0.8900    0.9292    0.9068      2328\n",
            "weighted avg     0.9450    0.9394    0.9407      2328\n",
            "\n"
          ]
        },
        {
          "output_type": "execute_result",
          "data": {
            "text/plain": [
              "<sklearn.metrics._plot.confusion_matrix.ConfusionMatrixDisplay at 0x7faa102da4f0>"
            ]
          },
          "metadata": {},
          "execution_count": 13
        },
        {
          "output_type": "display_data",
          "data": {
            "text/plain": [
              "<Figure size 640x480 with 2 Axes>"
            ],
            "image/png": "[encoded data removed]"
          },
          "metadata": {}
        }
      ],
      "source": [
        "y_score = model.predict(test_dataset)\n",
        "y_pred = np.rint(y_score) # to have 0 or 1\n",
        "y_true = tf.concat([labels_batch for data_batch, labels_batch in test_dataset], axis = 0)\n",
        "print(\"Classification report: \")\n",
        "print(y_pred.argmax(axis=1))\n",
        "print(metrics.classification_report(y_true.numpy().argmax(axis=1),y_pred.argmax(axis=1),digits = 4))\n",
        "metrics.ConfusionMatrixDisplay.from_predictions(y_true.numpy().argmax(axis=1), y_pred.argmax(axis=1))\n"
      ]
    },
    {
      "cell_type": "code",
      "execution_count": null,
      "metadata": {
        "colab": {
          "base_uri": "https://localhost:8080/",
          "height": 472
        },
        "id": "wTbgkEI-y1ht",
        "outputId": "74d6cffd-0021-476e-9444-d07bbf6b89ec"
      },
      "outputs": [
        {
          "output_type": "display_data",
          "data": {
            "text/plain": [
              "<Figure size 640x480 with 1 Axes>"
            ],
            "image/png": "[encoded data removed]"
          },
          "metadata": {}
        }
      ],
      "source": [
        "# Convert multiclass labels to binary format\n",
        "y_true_bin = label_binarize(y_true, classes=[0, 1, 2, 3, 4, 5, 6, 7])\n",
        "y_pred_bin = label_binarize(y_pred, classes=[0, 1, 2, 3, 4, 5, 6, 7])\n",
        "\n",
        "# Compute ROC curve and AUC for each class\n",
        "fpr = {}\n",
        "tpr = {}\n",
        "roc_auc = {}\n",
        "n_classes = 8\n",
        "for i in range(n_classes):\n",
        "    fpr[i], tpr[i], _ = roc_curve(y_true_bin[:, i], y_pred_bin[:, i])\n",
        "    roc_auc[i] = auc(fpr[i], tpr[i])\n",
        "\n",
        "# Plot ROC curve for each class\n",
        "plt.figure()\n",
        "colors = ['red', 'green', 'blue', 'yellow', 'orange', 'black', 'brown', 'grey']\n",
        "for i, color in zip(range(n_classes), colors):\n",
        "    plt.plot(fpr[i], tpr[i], color=color, lw=2,\n",
        "             label='ROC curve of class {0} (area = {1:0.2f})'\n",
        "             ''.format(i, roc_auc[i]))\n",
        "plt.plot([0, 1], [0, 1], 'k--', lw=2)\n",
        "plt.xlim([0.0, 1.0])\n",
        "plt.ylim([0.0, 1.05])\n",
        "plt.xlabel('False Positive Rate')\n",
        "plt.ylabel('True Positive Rate')\n",
        "plt.title('ROC curve for multiclass classification')\n",
        "plt.legend(loc=\"lower right\")\n",
        "plt.show()"
      ]
    },
    {
      "cell_type": "markdown",
      "source": [
        "### **Considerations**\n",
        "Based on the provided results, it appears that this model is performing well in terms of both training and validation accuracy. The training accuracy is 0.9534, which means that the model is able to correctly classify the majority of the training data. The validation accuracy of 0.9081 is also quite good and suggests that the model is not overfitting the training data.\n",
        "\n",
        "The loss values of 0.1583 and 0.2664 indicate that the model is doing a good job of minimizing the difference between predicted and actual values, both during training and validation.\n",
        "\n",
        "Overall, these results suggest that this model is well-optimized and performing effectively in terms of accuracy and loss. However, it's important to note that these metrics don't necessarily provide a complete picture of model performance, and it's always a good idea to perform additional evaluation and analysis to ensure that the model is working as intended.\n"
      ],
      "metadata": {
        "id": "u9iK1sxGLQoJ"
      }
    },
    {
      "cell_type": "markdown",
      "source": [
        "## 5-fold cross validation\n",
        "First, data are prepared for a K-fold cross validation"
      ],
      "metadata": {
        "id": "bXuMcKtEOYIa"
      }
    },
    {
      "cell_type": "code",
      "source": [
        "(kfold_img_np, kfold_label_np) = kfold_dataset\n",
        "\n",
        "acc_per_fold = []\n",
        "loss_per_fold = []\n",
        "num_folds = 5\n",
        "kfold = KFold(n_splits=num_folds, shuffle=True)\n",
        "\n",
        "# K-fold Cross Validation model evaluation\n",
        "fold_no = 1\n",
        "for train, test in kfold.split(kfold_img_np, kfold_label_np):\n",
        "   # Generate a print\n",
        "  print('------------------------------------------------------------------------')\n",
        "  print(f'Training for fold {fold_no} ...')\n",
        "\n",
        "  # Fit data to model\n",
        "  history = model.fit(kfold_img_np[train], \n",
        "                      kfold_label_np[train],\n",
        "                      epochs=30,\n",
        "                      callbacks = callbacks_list)\n",
        "\n",
        "  # Generate generalization metrics\n",
        "  scores = model.evaluate(kfold_img_np[test], kfold_label_np[test])\n",
        "  print(f'Score for fold {fold_no}: {model.metrics_names[0]} of {scores[0]}; {model.metrics_names[1]} of {scores[1]*100}%')\n",
        "  acc_per_fold.append(scores[1] * 100)\n",
        "  loss_per_fold.append(scores[0])\n",
        "\n",
        "  # Increase fold number\n",
        "  fold_no = fold_no + 1\n"
      ],
      "metadata": {
        "colab": {
          "base_uri": "https://localhost:8080/",
          "height": 235
        },
        "id": "-7LQQeIU-CNg",
        "outputId": "bbc57feb-0e0f-40de-ec70-5f5204302301"
      },
      "execution_count": null,
      "outputs": [
        {
          "output_type": "error",
          "ename": "ValueError",
          "evalue": "ignored",
          "traceback": [
            "\u001b[0;31m---------------------------------------------------------------------------\u001b[0m",
            "\u001b[0;31mValueError\u001b[0m                                Traceback (most recent call last)",
            "\u001b[0;32m<ipython-input-19-ac7f2fe05493>\u001b[0m in \u001b[0;36m<cell line: 1>\u001b[0;34m()\u001b[0m\n\u001b[0;32m----> 1\u001b[0;31m \u001b[0;34m(\u001b[0m\u001b[0mkfold_img_np\u001b[0m\u001b[0;34m,\u001b[0m \u001b[0mkfold_label_np\u001b[0m\u001b[0;34m)\u001b[0m \u001b[0;34m=\u001b[0m \u001b[0mkfold_dataset\u001b[0m\u001b[0;34m\u001b[0m\u001b[0;34m\u001b[0m\u001b[0m\n\u001b[0m\u001b[1;32m      2\u001b[0m \u001b[0;34m\u001b[0m\u001b[0m\n\u001b[1;32m      3\u001b[0m \u001b[0macc_per_fold\u001b[0m \u001b[0;34m=\u001b[0m \u001b[0;34m[\u001b[0m\u001b[0;34m]\u001b[0m\u001b[0;34m\u001b[0m\u001b[0;34m\u001b[0m\u001b[0m\n\u001b[1;32m      4\u001b[0m \u001b[0mloss_per_fold\u001b[0m \u001b[0;34m=\u001b[0m \u001b[0;34m[\u001b[0m\u001b[0;34m]\u001b[0m\u001b[0;34m\u001b[0m\u001b[0;34m\u001b[0m\u001b[0m\n\u001b[1;32m      5\u001b[0m \u001b[0mnum_folds\u001b[0m \u001b[0;34m=\u001b[0m \u001b[0;36m5\u001b[0m\u001b[0;34m\u001b[0m\u001b[0;34m\u001b[0m\u001b[0m\n",
            "\u001b[0;31mValueError\u001b[0m: too many values to unpack (expected 2)"
          ]
        }
      ]
    },
    {
      "cell_type": "code",
      "source": [
        "kfold_data = kfold_dataset.unbatch()\n",
        "images = np.array(list(kfold_data.map(lambda x, y: x)))\n",
        "labels = np.array(list(kfold_data.map(lambda x, y: y)))\n",
        "\n",
        "print(len(labels))\n",
        "print(len(images))\n",
        "print(type(labels))\n",
        "print(type(images))\n"
      ],
      "metadata": {
        "id": "efWNcFbI8dwD"
      },
      "execution_count": null,
      "outputs": []
    },
    {
      "cell_type": "code",
      "source": [
        "images = np.array(images)\n",
        "labels = np.array(labels)"
      ],
      "metadata": {
        "id": "VrTHXB9I_iYH"
      },
      "execution_count": null,
      "outputs": []
    },
    {
      "cell_type": "code",
      "source": [
        "k = 5\n",
        "num_val_samples = len(images) // k\n",
        "#print(num_val_samples)\n",
        "validation_scores = []\n",
        "for fold in range(k):\n",
        "    # validation data: data from partition k\n",
        "    val_data = images[fold * num_val_samples: (fold + 1) * num_val_samples]\n",
        "    val_labels = labels[fold * num_val_samples: (fold + 1) * num_val_samples]\n",
        "    # training data: data from all other partitions\n",
        "    train_data = np.concatenate((images[:fold * num_val_samples], images[(fold+ 1) * num_val_samples:]), axis = 0)\n",
        "    train_labels = np.concatenate((labels[:fold * num_val_samples], labels[(fold+ 1) * num_val_samples:]), axis = 0)\n",
        "    # Note: labels must be split accordingly\n",
        "\n",
        "    model.fit(train_data, train_labels, epochs=30)\n",
        "    # Evaluate the model on the validation data\n",
        "    validation_score = model.evaluate(val_data, val_labels)\n",
        "    validation_scores.append(validation_score)    \n",
        "    # it is better to delete the model and clear session to free memory\n",
        "\n",
        "# validation score: average of the validation scores of the k folds\n",
        "validation_score = np.average(validation_scores)\n",
        "\n",
        "# train the final model on all non-test data available\n",
        "model.fit(kfold_dataset, epochs=30, validation_data=validation_dataset)\n",
        "test_score = model.evaluate(test_dataset)"
      ],
      "metadata": {
        "id": "aM_7FGXeOYIb"
      },
      "execution_count": null,
      "outputs": []
    },
    {
      "cell_type": "markdown",
      "metadata": {
        "id": "oIi1P67NHtk5"
      },
      "source": [
        "# Fine-tuning"
      ]
    },
    {
      "cell_type": "code",
      "execution_count": null,
      "metadata": {
        "id": "40CiY59-Hw9Q"
      },
      "outputs": [],
      "source": [
        "conv_base.summary()"
      ]
    },
    {
      "cell_type": "markdown",
      "source": [
        "We unfreeze some layers of the convolutional base of the pretrained CNN in order to retrain them and we keep frozen the rest of the layers. We start to unfreeze layers from the bottom of the CNN (that has 5 convolutional levels). The last one is \"conv5\" composed by three block. So conv5_block3 is the last layer. We avoid to unfreeze Batch Normalization layers because during training, they uses the mean and variance of the current batch of data to normalize samples, and during inference, they uses an exponential moving average of the batch-wise mean and variance of the data seen during training.\n",
        "BN layers should be kept frozen during fine-tuning, i.e. avoid updating internal mean and variance."
      ],
      "metadata": {
        "id": "iGD_kItvMSCV"
      }
    },
    {
      "cell_type": "code",
      "execution_count": null,
      "metadata": {
        "id": "5grhJeh58GqN"
      },
      "outputs": [],
      "source": [
        "conv_base.trainable = True\n",
        "count = 0\n",
        "set_trainable = False\n",
        "for layer in conv_base.layers:\n",
        "    if '_bn' in layer.name:\n",
        "        set_trainable = False\n",
        "    elif 'block5_conv3' in layer.name:\n",
        "        set_trainable = True\n",
        "        print(layer.name)\n",
        "        count += 1\n",
        "    elif 'block5_conv2' in layer.name:\n",
        "        set_trainable = True\n",
        "        print(layer.name)\n",
        "        count += 1\n",
        "    elif 'block5_conv1' in layer.name:\n",
        "        set_trainable = True\n",
        "        print(layer.name)\n",
        "        count += 1\n",
        "    if set_trainable:\n",
        "        layer.trainable = True\n",
        "    else:\n",
        "        layer.trainable = False\n",
        "print(count)"
      ]
    },
    {
      "cell_type": "code",
      "execution_count": null,
      "metadata": {
        "id": "Q3bZ7mzy-kGH"
      },
      "outputs": [],
      "source": [
        "conv_base.summary()"
      ]
    },
    {
      "cell_type": "code",
      "execution_count": null,
      "metadata": {
        "id": "hs4F1enM--Wp"
      },
      "outputs": [],
      "source": [
        "model.compile(loss=\"categorical_crossentropy\",\n",
        "              optimizer=keras.optimizers.Adam(learning_rate=0.0001),\n",
        "              metrics=[\"accuracy\"])"
      ]
    },
    {
      "cell_type": "markdown",
      "source": [
        "We can see that now about 9M of parameters are trainable after the unfreezing operation."
      ],
      "metadata": {
        "id": "tMgGU7MDNnnC"
      }
    },
    {
      "cell_type": "code",
      "execution_count": null,
      "metadata": {
        "id": "OptKHh9JBarp"
      },
      "outputs": [],
      "source": [
        "model.summary()"
      ]
    },
    {
      "cell_type": "code",
      "execution_count": null,
      "metadata": {
        "id": "4DRNK595CJXl"
      },
      "outputs": [],
      "source": [
        "dir_name = \"/content/drive/My Drive/\"\n",
        "if not os.path.exists(dir_name):\n",
        "  os.makedirs(dir_name)\n",
        "save_path = os.path.join(dir_name, 'garbage_classification_pretrained_fine_tuned_MOBILENET.h5')\n",
        "\n",
        "callbacks_list = [\n",
        "    keras.callbacks.EarlyStopping(\n",
        "      monitor='val_accuracy',\n",
        "      min_delta=1e-3,\n",
        "      patience=5,\n",
        "    ),\n",
        "    keras.callbacks.ModelCheckpoint(\n",
        "    filepath=save_path,\n",
        "    monitor=\"val_loss\",\n",
        "    verbose=1,\n",
        "    save_best_only=True)\n",
        "]"
      ]
    },
    {
      "cell_type": "code",
      "execution_count": null,
      "metadata": {
        "id": "GOHg0_WHCdQh"
      },
      "outputs": [],
      "source": [
        "history = model.fit(\n",
        "    train_dataset,\n",
        "    epochs=30, \n",
        "    validation_data=validation_dataset,\n",
        "    callbacks = callbacks_list\n",
        ")"
      ]
    },
    {
      "cell_type": "code",
      "execution_count": null,
      "metadata": {
        "id": "tcjc0LwaDb9W"
      },
      "outputs": [],
      "source": [
        "acc_1 = history.history['accuracy']\n",
        "val_acc_1 = history.history['val_accuracy']\n",
        "loss_1 = history.history['loss']\n",
        "val_loss_1 = history.history['val_loss']\n",
        "\n",
        "epochs = range(len(acc_1))\n",
        "# plt.yticks(np.arange(0, 1.1, 0.1))\n",
        "# plt.ylim(np.min(acc_1)-0.9, np.max(acc_1)+0.2)\n",
        "# plt.ylim(np.min(val_acc_1)-0.9, np.max(val_acc_1)+0.2)\n",
        "\n",
        "plt.plot(epochs, acc_1, 'r', label='Training acc')\n",
        "plt.plot(epochs, val_acc_1, 'b', label='Validation acc')\n",
        "plt.title('Training and validation accuracy')\n",
        "plt.legend()\n",
        "\n",
        "plt.figure()\n",
        "\n",
        "plt.plot(epochs, loss_1, 'r', label='Training loss')\n",
        "plt.plot(epochs, val_loss_1, 'b', label='Validation loss')\n",
        "plt.title('Training and validation loss')\n",
        "plt.legend()\n",
        "\n",
        "plt.show()"
      ]
    },
    {
      "cell_type": "code",
      "execution_count": null,
      "metadata": {
        "id": "JTjk99i7H8VZ"
      },
      "outputs": [],
      "source": [
        "y_score = model.predict(test_dataset)\n",
        "y_pred = np.rint(y_score) # to have 0 or 1\n",
        "y_true = tf.concat([labels_batch for data_batch, labels_batch in test_dataset], axis = 0)\n",
        "print(\"Classification report: \")\n",
        "print(metrics.classification_report(y_true.numpy().argmax(axis=1),y_pred.argmax(axis=1),digits = 4))\n",
        "metrics.ConfusionMatrixDisplay.from_predictions(y_true.numpy().argmax(axis=1), y_pred.argmax(axis=1))"
      ]
    },
    {
      "cell_type": "markdown",
      "metadata": {
        "id": "kiV4P6zpq0Nn"
      },
      "source": [
        "# Hyperparameter tuning"
      ]
    },
    {
      "cell_type": "markdown",
      "metadata": {
        "id": "rdN_Wv4zoy1Q"
      },
      "source": [
        "In this section we run some experiments with Keras Tuner to find the optimal configuration for the hyperparameters of CNN selected for this project. We try to play with parameters such as learning rate of optimizer, number of hidden units of dense layer, activation function of dense layer and the presence or not of a dropout layer."
      ]
    },
    {
      "cell_type": "code",
      "execution_count": null,
      "metadata": {
        "id": "aBgFQxGG5xgn"
      },
      "outputs": [],
      "source": [
        "# Create permanent folder in Google Drive\n",
        "my_dir = \"/content/drive/My Drive/project/\"\n",
        "if not os.path.exists(my_dir):\n",
        "  os.makedirs(my_dir)\n",
        "log_dir = my_dir + \"/logs/\" + datetime.datetime.now().strftime(\"%m%d-%H%M\")"
      ]
    },
    {
      "cell_type": "code",
      "execution_count": null,
      "metadata": {
        "id": "WYZ7EAu7q63u"
      },
      "outputs": [],
      "source": [
        "def model_builder(hp): \n",
        "\n",
        "  inputs = keras.Input(shape=(IMAGE_HEIGHT, IMAGE_WIDTH, 3))\n",
        "  x = resize_and_rescale(inputs)\n",
        "  x = keras.applications.resnet_v2.preprocess_input(inputs)\n",
        "  x = conv_base(x)\n",
        "  x = keras.layers.GlobalAveragePooling2D(name='my_glo_avg_pool')(x)\n",
        "\n",
        "  # Decide whether to use or not dropout\n",
        "  dropout_rate_hp = hp.Float('dropout_rate', min_value = 0, max_value = 0.5, step = 0.05)\n",
        "\n",
        "  # Pick one of these activation functions\n",
        "  activation = hp.Choice(\"activation\", [\"relu\", \"elu\", \"gelu\"])\n",
        "\n",
        "  # Tune the number of units in the first Dense layer\n",
        "  # Choose an optimal value between 32-512\n",
        "  hp_units = hp.Int('units', min_value=32, max_value=512, step=32)\n",
        "\n",
        "  x = keras.layers.Dense(units=hp_units, activation=activation)(x)\n",
        "\n",
        "  x = keras.layers.Dropout(dropout_rate_hp)(x)\n",
        "\n",
        "  outputs = keras.layers.Dense(8, activation=\"softmax\", name='predictions')(x)\n",
        "  model = keras.Model(inputs, outputs)\n",
        "\n",
        "  # Tune the learning rate for the optimizer\n",
        "  # Choose an optimal value from 0.01, 0.001, or 0.0001\n",
        "  hp_learning_rate = hp.Choice('learning_rate', values=[1e-2, 1e-3, 1e-4])\n",
        "\n",
        "  model.compile(optimizer=keras.optimizers.Adam(learning_rate=hp_learning_rate),\n",
        "                loss=keras.losses.CategoricalCrossentropy(),\n",
        "                metrics=['accuracy'])\n",
        "\n",
        "  return model\n"
      ]
    },
    {
      "cell_type": "code",
      "execution_count": null,
      "metadata": {
        "id": "WlgNCx5e5mZo"
      },
      "outputs": [],
      "source": [
        "tuner = kt.Hyperband(model_builder,\n",
        "                     objective='val_loss',\n",
        "                     overwrite=True,\n",
        "                     max_epochs=20,\n",
        "                     factor=3,\n",
        "                     directory=log_dir,\n",
        "                     project_name='kerasTunerMobileNet')\n",
        "\n",
        "#tuner2 = kt.applications.HyperResNet(\n",
        "  #                  model_builder,\n",
        "   #                 include_top=True, \n",
        "    #                input_shape=(IMAGE_HEIGHT, IMAGE_WIDTH, 3),\n",
        "     #               directory=log_dir,\n",
        "      #              project_name='10_kerasTuner')"
      ]
    },
    {
      "cell_type": "code",
      "execution_count": null,
      "metadata": {
        "id": "lprtp13YAFNM"
      },
      "outputs": [],
      "source": [
        "tuner.search_space_summary()"
      ]
    },
    {
      "cell_type": "code",
      "execution_count": null,
      "metadata": {
        "id": "9WGYXUSzsng7"
      },
      "outputs": [],
      "source": [
        "stop_early = tf.keras.callbacks.EarlyStopping(monitor='val_loss', patience=4, restore_best_weights=True)\n",
        "tensorboard = keras.callbacks.TensorBoard(log_dir)\n",
        "tuner.search(train_dataset, epochs=10, validation_data=validation_dataset, callbacks=[stop_early, tensorboard])\n",
        "\n",
        "# Get the optimal hyperparameters\n",
        "best_hps = tuner.get_best_hyperparameters(num_trials=1)[0]\n",
        "\n",
        "print(f\"The hyperparameter search is complete. \\\n",
        "        The optimal number of units in the first densely-connected layer is {best_hps.get('units')} and \\\n",
        "        the optimal learning rate for the optimizer is {best_hps.get('learning_rate')}and \\\n",
        "        the best dropout rate is {best_hps.get('dropout_rate')} and \\\n",
        "        the best activation function is {best_hps.get('activation')}.\")"
      ]
    },
    {
      "cell_type": "code",
      "execution_count": null,
      "metadata": {
        "id": "Kwp1n72RAIua"
      },
      "outputs": [],
      "source": [
        "tuner.results_summary()"
      ]
    },
    {
      "cell_type": "code",
      "execution_count": null,
      "metadata": {
        "id": "AWigEhcysywG"
      },
      "outputs": [],
      "source": [
        "import tensorboard\n",
        "%load_ext tensorboard\n",
        "%tensorboard --logdir \"$log_dir\""
      ]
    },
    {
      "cell_type": "code",
      "execution_count": null,
      "metadata": {
        "id": "z9hAmSXks19H"
      },
      "outputs": [],
      "source": [
        "# Build the model with the optimal hyperparameters and train it on the data for 50 epochs\n",
        "model = tuner.hypermodel.build(best_hps)\n",
        "history = model.fit(train_dataset, epochs=50, validation_data=validation_dataset)\n",
        "\n",
        "val_acc_per_epoch = history.history['val_accuracy']\n",
        "best_epoch = val_acc_per_epoch.index(max(val_acc_per_epoch)) + 1\n",
        "print('Best epoch: %d' % (best_epoch,))"
      ]
    },
    {
      "cell_type": "code",
      "execution_count": null,
      "metadata": {
        "id": "mW2Vl3Dos5iq"
      },
      "outputs": [],
      "source": [
        "hypermodel = tuner.hypermodel.build(best_hps)\n",
        "\n",
        "# Retrain the model\n",
        "hypermodel.fit(train_dataset, epochs=best_epoch, validation_data=validation_dataset)"
      ]
    },
    {
      "cell_type": "code",
      "execution_count": null,
      "metadata": {
        "id": "Bbps9iPJs8kt"
      },
      "outputs": [],
      "source": [
        "eval_result = hypermodel.evaluate(test_dataset)\n",
        "print(\"[test loss, test accuracy]:\", eval_result)"
      ]
    }
  ],
  "metadata": {
    "accelerator": "GPU",
    "colab": {
      "provenance": [],
      "include_colab_link": true
    },
    "gpuClass": "standard",
    "kernelspec": {
      "display_name": "Python 3",
      "name": "python3"
    },
    "language_info": {
      "name": "python"
    }
  },
  "nbformat": 4,
  "nbformat_minor": 0
}